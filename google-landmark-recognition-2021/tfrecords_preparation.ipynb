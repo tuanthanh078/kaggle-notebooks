{
  "nbformat": 4,
  "nbformat_minor": 0,
  "metadata": {
    "colab": {
      "name": "tfrecords-preparation.ipynb",
      "provenance": [],
      "collapsed_sections": []
    },
    "kernelspec": {
      "name": "python3",
      "display_name": "Python 3"
    },
    "language_info": {
      "name": "python"
    }
  },
  "cells": [
    {
      "cell_type": "markdown",
      "metadata": {
        "id": "paaTJNhfO87B"
      },
      "source": [
        "# TFRecords generation"
      ]
    },
    {
      "cell_type": "code",
      "metadata": {
        "id": "BlUmCjvCMHlj"
      },
      "source": [
        "import numpy as np, pandas as pd, os\n",
        "import matplotlib.pyplot as plt\n",
        "import tensorflow as tf, re, math\n",
        "from tqdm import tqdm"
      ],
      "execution_count": null,
      "outputs": []
    },
    {
      "cell_type": "code",
      "metadata": {
        "id": "__7OvadJMcnk"
      },
      "source": [
        "IMAGE_SIZE = 736\n",
        "N_GROUPS = 12 # Num of groups in each fold, each group captures an interval in the distribution of the dataset\n",
        "N_FOLDS = 10 # Num of folds\n",
        "N_TFRs = N_GROUPS*N_FOLDS # Num of tfrecords\n",
        "SUBSET = True  # Keep SUBSET=True while debugging (Faster Execution)\n",
        "SUBSET_SIZE = 10000\n",
        "BATCH_SIZE = 32\n",
        "FOLDS = list(range(N_FOLDS))\n",
        "GROUPS = list(range(N_GROUPS))\n",
        "assert max(FOLDS)<N_FOLDS, \"ELEMENTS OF FOLDS can't be greater than N_FOLDS\"\n",
        "assert max(GROUPS)<N_GROUPS, \"ELEMENTS OF FOLDS can't be greater than N_FOLDS\""
      ],
      "execution_count": null,
      "outputs": []
    },
    {
      "cell_type": "code",
      "metadata": {
        "id": "Itc3MXDGM4Vo"
      },
      "source": [
        "train_df = pd.read_csv('/content/data/train.csv')\n",
        "train_df['original_landmark_id'] = train_df.landmark_id\n",
        "print(train_df.shape)\n",
        "train_df['order'] = np.arange(train_df.shape[0])\n",
        "train_df['order'] = train_df.groupby('landmark_id').order.rank()-1\n",
        "landmark_counts = train_df.landmark_id.value_counts()\n",
        "train_df['landmark_counts'] = landmark_counts.loc[train_df.landmark_id.values].values\n",
        "train_df['fold'] = (train_df['order']%N_FOLDS).astype(int)\n",
        "all_groups = [(1/N_GROUPS)*x for x in range(N_GROUPS)]\n",
        "\n",
        "print(train_df.landmark_counts.quantile(all_groups))\n",
        "for i,partition_val in enumerate(train_df.landmark_counts.quantile(all_groups).values):\n",
        "                     train_df.loc[train_df.landmark_counts>=partition_val,'group'] = i \n",
        "        \n",
        "landmark_map = train_df.sort_values(by='landmark_counts').landmark_id.drop_duplicates().reset_index(drop=True)\n",
        "landmark_dict = {landmark_map.loc[x]:81312-x for x in range(81313)}\n",
        "train_df['landmark_id'] = train_df.original_landmark_id.apply(lambda x: landmark_dict[x])\n",
        "train_df = train_df.sample(frac=1).reset_index(drop=True)\n",
        "train_df.to_csv('train_meta_data.csv',index=False)\n",
        "train_df.sample(10)"
      ],
      "execution_count": null,
      "outputs": []
    },
    {
      "cell_type": "code",
      "metadata": {
        "id": "Q0diSG2BNp82"
      },
      "source": [
        "# Checking Null values\n",
        "train_df.isna().sum().sum()"
      ],
      "execution_count": null,
      "outputs": []
    },
    {
      "cell_type": "code",
      "metadata": {
        "id": "O5Er25ETNriz"
      },
      "source": [
        "train_df.groupby('group').landmark_counts.agg(['min','max'])"
      ],
      "execution_count": null,
      "outputs": []
    },
    {
      "cell_type": "code",
      "metadata": {
        "id": "tBTH20MKNtFG"
      },
      "source": [
        "# Landmark Counts\n",
        "train_df.landmark_id.value_counts()"
      ],
      "execution_count": null,
      "outputs": []
    },
    {
      "cell_type": "code",
      "metadata": {
        "id": "QEk5jQOuNv4L"
      },
      "source": [
        "# Num of images GroupBy landmark counts\n",
        "train_df.landmark_counts.value_counts()"
      ],
      "execution_count": null,
      "outputs": []
    },
    {
      "cell_type": "code",
      "metadata": {
        "id": "LGMz8PEkNxik"
      },
      "source": [
        "# Num of Images in Each Folds\n",
        "train_df.fold.value_counts()"
      ],
      "execution_count": null,
      "outputs": []
    },
    {
      "cell_type": "code",
      "metadata": {
        "id": "7HV-fhcFNzP7"
      },
      "source": [
        "# Num of Images in Each Group\n",
        "train_df.group.value_counts()"
      ],
      "execution_count": null,
      "outputs": []
    },
    {
      "cell_type": "code",
      "metadata": {
        "id": "3KP7TkWzN8S6"
      },
      "source": [
        "# Num of Landmarks in each Fold\n",
        "train_df.drop_duplicates(['fold','landmark_id']).groupby('fold').landmark_id.count()"
      ],
      "execution_count": null,
      "outputs": []
    },
    {
      "cell_type": "code",
      "metadata": {
        "id": "hbESQ130N-b5"
      },
      "source": [
        "train_df.groupby(['fold','group']).id.count()"
      ],
      "execution_count": null,
      "outputs": []
    },
    {
      "cell_type": "code",
      "metadata": {
        "id": "t5oDA5ZuN_5s"
      },
      "source": [
        "# helper functions to write tfrecords\n",
        "def _bytes_feature(value):\n",
        "  \"\"\"Returns a bytes_list from a string / byte.\"\"\"\n",
        "  if isinstance(value, type(tf.constant(0))):\n",
        "    value = value.numpy() # BytesList won't unpack a string from an EagerTensor.\n",
        "  return tf.train.Feature(bytes_list=tf.train.BytesList(value=[value]))\n",
        "\n",
        "def _float_feature(value):\n",
        "  \"\"\"Returns a float_list from a float / double.\"\"\"\n",
        "  return tf.train.Feature(float_list=tf.train.FloatList(value=[value]))\n",
        "\n",
        "def _int64_feature(value):\n",
        "  \"\"\"Returns an int64_list from a bool / enum / int / uint.\"\"\"\n",
        "  return tf.train.Feature(int64_list=tf.train.Int64List(value=[value]))\n",
        "\n",
        "def serialize_example(image,image_id,landmark_id):\n",
        "    feature = {\n",
        "        'image': _bytes_feature(image),\n",
        "        'image_id': _bytes_feature(image_id),\n",
        "        'landmark_id': _int64_feature(landmark_id),\n",
        "      }\n",
        "    example_proto = tf.train.Example(features=tf.train.Features(feature=feature))\n",
        "    return example_proto.SerializeToString()"
      ],
      "execution_count": null,
      "outputs": []
    },
    {
      "cell_type": "code",
      "metadata": {
        "id": "u2BwpxJxOLWu"
      },
      "source": [
        "if SUBSET:\n",
        "    train_df = train_df.sample(SUBSET_SIZE)\n",
        "for fold in FOLDS:\n",
        "    for group in GROUPS:\n",
        "        tfr_filename = '/content/tfrecords/train/train-{}-{}.tfrec'.format(fold,group)\n",
        "        print(\"Writing\",tfr_filename)\n",
        "        with tf.io.TFRecordWriter(tfr_filename) as writer:\n",
        "            indices = train_df[(train_df.fold==fold) & (train_df.group==group)].index.to_list()\n",
        "            for index in tqdm(indices):\n",
        "                image_id = train_df.loc[index,'id']\n",
        "                landmark_id = train_df.loc[index,'landmark_id']\n",
        "                image_path = \"/content/data/train/{}/{}/{}/{}.jpg\".format(image_id[0],image_id[1],image_id[2],image_id) \n",
        "                image = cv2.imread(image_path)\n",
        "                if RESIZE:\n",
        "                    image = cv2.resize(image, (IMAGE_SIZE,IMAGE_SIZE))\n",
        "                image = cv2.imencode('.jpg', image, (cv2.IMWRITE_JPEG_QUALITY, 100))[1].tostring()\n",
        "                image_id = str.encode(image_id)\n",
        "                sample = serialize_example(image,image_id,landmark_id)\n",
        "                writer.write(sample)"
      ],
      "execution_count": null,
      "outputs": []
    },
    {
      "cell_type": "code",
      "metadata": {
        "id": "8pUmCDKVOsyy"
      },
      "source": [
        "if SUBSET:\n",
        "    train_df = train_df.sample(SUBSET_SIZE)\n",
        "for fold in FOLDS:\n",
        "    for group in GROUPS:\n",
        "        tfr_filename = '/content/tfrecords/train/train-{}-{}.tfrec'.format(fold,group)\n",
        "        print(\"Writing\",tfr_filename)\n",
        "        with tf.io.TFRecordWriter(tfr_filename) as writer:\n",
        "            indices = train_df[(train_df.fold==fold) & (train_df.group==group)].index.to_list()\n",
        "            for index in tqdm(indices):\n",
        "                image_id = train_df.loc[index,'id']\n",
        "                landmark_id = train_df.loc[index,'landmark_id']\n",
        "                image_path = \"/content/data/train/{}/{}/{}/{}.jpg\".format(image_id[0],image_id[1],image_id[2],image_id) \n",
        "                image = tf.io.read_file(image_path)\n",
        "                image = tf.image.decode_jpeg(image, channels=3)\n",
        "                image = tf.image.resize(image, [IMAGE_SIZE, IMAGE_SIZE])\n",
        "                image = tf.io.encode_jpeg(tf.cast(image, dtype=tf.uint8))\n",
        "                image_id = str.encode(image_id)\n",
        "                sample = serialize_example(image,image_id,landmark_id)\n",
        "                writer.write(sample)"
      ],
      "execution_count": null,
      "outputs": []
    },
    {
      "cell_type": "markdown",
      "metadata": {
        "id": "RvNzphBfPEm1"
      },
      "source": [
        "# TFRecords checking"
      ]
    },
    {
      "cell_type": "code",
      "metadata": {
        "id": "6D5gm3WQPLX4"
      },
      "source": [
        "IMAGE_SIZE_ = [IMAGE_SIZE,IMAGE_SIZE]\n",
        "AUTO = tf.data.experimental.AUTOTUNE\n",
        "TRAINING_FILENAMES = tf.io.gfile.glob('/content/tfrecords/train/train*.tfrec')\n",
        "print(TRAINING_FILENAMES)\n",
        "dataset = load_dataset(TRAINING_FILENAMES, labeled=True)\n",
        "dataset = dataset.repeat()\n",
        "dataset = dataset.shuffle(2048)\n",
        "dataset = dataset.batch(BATCH_SIZE)\n",
        "dataset = dataset.prefetch(AUTO) #This dataset can directly be passed to keras.fit method"
      ],
      "execution_count": null,
      "outputs": []
    },
    {
      "cell_type": "code",
      "metadata": {
        "id": "YAbnFzQqPVxq"
      },
      "source": [
        "# numpy and matplotlib defaults\n",
        "np.set_printoptions(threshold=15, linewidth=80)\n",
        "CLASSES = [0,1]\n",
        "\n",
        "def batch_to_numpy_images_and_labels(data):\n",
        "    images, labels = data\n",
        "    numpy_images = images.numpy()\n",
        "    numpy_labels = labels.numpy()\n",
        "    #if numpy_labels.dtype == object: # binary string in this case, these are image ID strings\n",
        "    #    numpy_labels = [None for _ in enumerate(numpy_images)]\n",
        "    # If no labels, only image IDs, return None for labels (this is the case for test data)\n",
        "    return numpy_images, numpy_labels\n",
        "\n",
        "def display_single_sample(image, label, subplot, red=False, titlesize=16):\n",
        "    plt.subplot(*subplot)\n",
        "    plt.axis('off')\n",
        "    plt.imshow(image)\n",
        "    title = str(label)\n",
        "    if len(title) > 0:\n",
        "        plt.title(title, fontsize=int(titlesize) if not red else int(titlesize/1.2), color='red' if red else 'black', fontdict={'verticalalignment':'center'}, pad=int(titlesize/1.5))\n",
        "    return (subplot[0], subplot[1], subplot[2]+1)\n",
        "    \n",
        "def display_batch_of_images(databatch):\n",
        "    \"\"\"\n",
        "    Display single batch Of images \n",
        "    \"\"\"\n",
        "    # data\n",
        "    images, labels = batch_to_numpy_images_and_labels(databatch)\n",
        "    if labels is None:\n",
        "        labels = [None for _ in enumerate(images)]\n",
        "        \n",
        "    # auto-squaring: this will drop data that does not fit into square or square-ish rectangle\n",
        "    rows = int(math.sqrt(len(images)))\n",
        "    cols = len(images)//rows\n",
        "        \n",
        "    # size and spacing\n",
        "    FIGSIZE = 13.0\n",
        "    SPACING = 0.1\n",
        "    subplot=(rows,cols,1)\n",
        "    if rows < cols:\n",
        "        plt.figure(figsize=(FIGSIZE,FIGSIZE/cols*rows))\n",
        "    else:\n",
        "        plt.figure(figsize=(FIGSIZE/rows*cols,FIGSIZE))\n",
        "    \n",
        "    # display\n",
        "    for i, (image, label) in enumerate(zip(images[:rows*cols], labels[:rows*cols])):\n",
        "        correct = True\n",
        "        dynamic_titlesize = FIGSIZE*SPACING/max(rows,cols)*40+3 # magic formula tested to work from 1x1 to 10x10 images\n",
        "        subplot = display_single_sample(image, label, subplot, not correct, titlesize=dynamic_titlesize)\n",
        "    \n",
        "    #layout\n",
        "    plt.tight_layout()\n",
        "    if label is None and predictions is None:\n",
        "        plt.subplots_adjust(wspace=0, hspace=0)\n",
        "    else:\n",
        "        plt.subplots_adjust(wspace=SPACING, hspace=SPACING)\n",
        "    plt.show()"
      ],
      "execution_count": null,
      "outputs": []
    },
    {
      "cell_type": "code",
      "metadata": {
        "id": "5bSELX4FPXTq"
      },
      "source": [
        "# Displaying single batch of TFRecord\n",
        "train_batch = iter(dataset)\n",
        "display_batch_of_images(next(train_batch))"
      ],
      "execution_count": null,
      "outputs": []
    }
  ]
}