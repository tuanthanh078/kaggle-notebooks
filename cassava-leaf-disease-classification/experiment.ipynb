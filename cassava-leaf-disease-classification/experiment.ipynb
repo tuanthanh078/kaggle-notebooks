{
  "nbformat": 4,
  "nbformat_minor": 0,
  "metadata": {
    "accelerator": "GPU",
    "colab": {
      "name": "test3.ipynb",
      "provenance": [],
      "collapsed_sections": [
        "vhFCieMXJO7j",
        "DJ76bKZTJO7t",
        "JpJx6i9hJO70",
        "z7DB1N6SJO71",
        "CHLjdzTNJO73"
      ],
      "machine_shape": "hm"
    },
    "kernelspec": {
      "display_name": "Python 3",
      "language": "python",
      "name": "python3"
    },
    "language_info": {
      "codemirror_mode": {
        "name": "ipython",
        "version": 3
      },
      "file_extension": ".py",
      "mimetype": "text/x-python",
      "name": "python",
      "nbconvert_exporter": "python",
      "pygments_lexer": "ipython3",
      "version": "3.6.4"
    }
  },
  "cells": [
    {
      "cell_type": "code",
      "metadata": {
        "colab": {
          "background_save": true
        },
        "id": "8oLXMikLDAc6"
      },
      "source": [
        "from google.colab import auth\n",
        "auth.authenticate_user()"
      ],
      "execution_count": null,
      "outputs": []
    },
    {
      "cell_type": "code",
      "metadata": {
        "id": "usJ-hVPeDDwT"
      },
      "source": [
        "!curl https://sdk.cloud.google.com | bash\n",
        "!gcloud init"
      ],
      "execution_count": null,
      "outputs": []
    },
    {
      "cell_type": "code",
      "metadata": {
        "id": "XpuYPDdRMlUD"
      },
      "source": [
        "# ! mkdir data && mkdir data/train && mkdir data/test"
      ],
      "execution_count": null,
      "outputs": []
    },
    {
      "cell_type": "code",
      "metadata": {
        "colab": {
          "base_uri": "https://localhost:8080/"
        },
        "id": "ajFdDBd-QRrA",
        "outputId": "671e62a6-2522-4452-917b-40cd4cce6949"
      },
      "source": [
        "# ! curl \"https://storage.googleapis.com/kaggle-competitions-data/kaggle-v2/13836/1718836/bundle/archive.zip?GoogleAccessId=web-data@kaggle-161607.iam.gserviceaccount.com&Expires=1628374790&Signature=Q4jACI6AhDbFr8btVxMFsfX6cykUyhVzdAnd1UUEzoetZYKd3uiIyj7TQMDE%2F1z8MGwwDYIlypDlKgsV10%2F8MFD%2BmiKN1dZj29XUoBJ2K8qML7ljoYk6ne8cHrh1J8o4FIAKlHPzHUhlE56ZTERQ%2FZqQvn0hgYS8QMCnQ55wSipQ7lx1M7t%2FgNporiLBKP9KZnbxJ4yiwQoDTAUSC3%2BChcrPTCx0pNvsuZ0y7264ob2XmV9%2FBkc0iSWclTdYXD47HivKKsL%2B9%2FpidE5dpfaMh%2BvtfP3MRy3udjq83VYjeeQqOjf5zlPJtRMI6t4NLM0m1FdOcAmzHTvIL46k5yZuDQ%3D%3D&response-content-disposition=attachment%3B+filename%3Dcassava-leaf-disease-classification.zip\" --output cassava-leaf-disease-classification.zip"
      ],
      "execution_count": null,
      "outputs": [
        {
          "output_type": "stream",
          "text": [
            "  % Total    % Received % Xferd  Average Speed   Time    Time     Time  Current\n",
            "                                 Dload  Upload   Total   Spent    Left  Speed\n",
            "100 5899M  100 5899M    0     0  98.4M      0  0:00:59  0:00:59 --:--:-- 80.9M\n"
          ],
          "name": "stdout"
        }
      ]
    },
    {
      "cell_type": "code",
      "metadata": {
        "id": "-DMg_oFsRxu2"
      },
      "source": [
        "# ! unzip /content/cassava-leaf-disease-classification.zip -d /content/data"
      ],
      "execution_count": null,
      "outputs": []
    },
    {
      "cell_type": "markdown",
      "metadata": {
        "id": "DYtXfpKLJO7h"
      },
      "source": [
        "# Set up environment"
      ]
    },
    {
      "cell_type": "code",
      "metadata": {
        "colab": {
          "base_uri": "https://localhost:8080/"
        },
        "id": "LaxWwS9CJO7i",
        "outputId": "a2f52f2f-6baa-4a24-c863-4efe9f6060fd"
      },
      "source": [
        "import math, re, os\n",
        "import tensorflow as tf\n",
        "import numpy as np\n",
        "import pandas as pd\n",
        "import matplotlib.pyplot as plt\n",
        "# from kaggle_datasets import KaggleDatasets\n",
        "from tensorflow import keras\n",
        "import tensorflow.keras.backend as K\n",
        "import tensorflow_probability as tfp\n",
        "import seaborn as sns\n",
        "from functools import partial\n",
        "from sklearn.model_selection import train_test_split\n",
        "print(\"Tensorflow version \" + tf.__version__)"
      ],
      "execution_count": null,
      "outputs": [
        {
          "output_type": "stream",
          "text": [
            "Tensorflow version 2.5.0\n"
          ],
          "name": "stdout"
        }
      ]
    },
    {
      "cell_type": "markdown",
      "metadata": {
        "id": "vhFCieMXJO7j"
      },
      "source": [
        "# Detect TPU\n",
        "What we're doing with our code here is making sure that we'll be sending our data across a TPU. What you're looking for is a printout of `Number of replicas: 8`, corresponding to the 8 cores of a TPU. If your printout instead says `Number of replicas: 1` you likely do not have TPUs enabled in your notebook.   \n",
        "\n",
        "To enable TPUs navigate to the panel on the right and click on `Accelerator`. Choose TPU from the dropdown.  \n",
        "\n",
        "If you'd like more TPU troubleshooting and optimization guidelines check out our **[Learn With Me: Troubleshooting and Optimizing TPUs video](https://youtu.be/BSeWHzjMHMU)**.  "
      ]
    },
    {
      "cell_type": "code",
      "metadata": {
        "colab": {
          "base_uri": "https://localhost:8080/"
        },
        "id": "WOOh_TC1JO7k",
        "outputId": "84fd316b-2b58-484f-aaa6-151711e3d5ab"
      },
      "source": [
        "try:\n",
        "    tpu = tf.distribute.cluster_resolver.TPUClusterResolver()\n",
        "    print('Device:', tpu.master())\n",
        "    tf.config.experimental_connect_to_cluster(tpu)\n",
        "    tf.tpu.experimental.initialize_tpu_system(tpu)\n",
        "    strategy = tf.distribute.experimental.TPUStrategy(tpu)\n",
        "except:\n",
        "    strategy = tf.distribute.get_strategy()\n",
        "print('Number of replicas:', strategy.num_replicas_in_sync)"
      ],
      "execution_count": null,
      "outputs": [
        {
          "output_type": "stream",
          "text": [
            "Device: grpc://10.52.119.250:8470\n",
            "INFO:tensorflow:Initializing the TPU system: grpc://10.52.119.250:8470\n"
          ],
          "name": "stdout"
        },
        {
          "output_type": "stream",
          "text": [
            "INFO:tensorflow:Initializing the TPU system: grpc://10.52.119.250:8470\n"
          ],
          "name": "stderr"
        },
        {
          "output_type": "stream",
          "text": [
            "INFO:tensorflow:Clearing out eager caches\n"
          ],
          "name": "stdout"
        },
        {
          "output_type": "stream",
          "text": [
            "INFO:tensorflow:Clearing out eager caches\n"
          ],
          "name": "stderr"
        },
        {
          "output_type": "stream",
          "text": [
            "INFO:tensorflow:Finished initializing TPU system.\n"
          ],
          "name": "stdout"
        },
        {
          "output_type": "stream",
          "text": [
            "INFO:tensorflow:Finished initializing TPU system.\n",
            "WARNING:absl:`tf.distribute.experimental.TPUStrategy` is deprecated, please use  the non experimental symbol `tf.distribute.TPUStrategy` instead.\n"
          ],
          "name": "stderr"
        },
        {
          "output_type": "stream",
          "text": [
            "INFO:tensorflow:Found TPU system:\n"
          ],
          "name": "stdout"
        },
        {
          "output_type": "stream",
          "text": [
            "INFO:tensorflow:Found TPU system:\n"
          ],
          "name": "stderr"
        },
        {
          "output_type": "stream",
          "text": [
            "INFO:tensorflow:*** Num TPU Cores: 8\n"
          ],
          "name": "stdout"
        },
        {
          "output_type": "stream",
          "text": [
            "INFO:tensorflow:*** Num TPU Cores: 8\n"
          ],
          "name": "stderr"
        },
        {
          "output_type": "stream",
          "text": [
            "INFO:tensorflow:*** Num TPU Workers: 1\n"
          ],
          "name": "stdout"
        },
        {
          "output_type": "stream",
          "text": [
            "INFO:tensorflow:*** Num TPU Workers: 1\n"
          ],
          "name": "stderr"
        },
        {
          "output_type": "stream",
          "text": [
            "INFO:tensorflow:*** Num TPU Cores Per Worker: 8\n"
          ],
          "name": "stdout"
        },
        {
          "output_type": "stream",
          "text": [
            "INFO:tensorflow:*** Num TPU Cores Per Worker: 8\n"
          ],
          "name": "stderr"
        },
        {
          "output_type": "stream",
          "text": [
            "INFO:tensorflow:*** Available Device: _DeviceAttributes(/job:localhost/replica:0/task:0/device:CPU:0, CPU, 0, 0)\n"
          ],
          "name": "stdout"
        },
        {
          "output_type": "stream",
          "text": [
            "INFO:tensorflow:*** Available Device: _DeviceAttributes(/job:localhost/replica:0/task:0/device:CPU:0, CPU, 0, 0)\n"
          ],
          "name": "stderr"
        },
        {
          "output_type": "stream",
          "text": [
            "INFO:tensorflow:*** Available Device: _DeviceAttributes(/job:worker/replica:0/task:0/device:CPU:0, CPU, 0, 0)\n"
          ],
          "name": "stdout"
        },
        {
          "output_type": "stream",
          "text": [
            "INFO:tensorflow:*** Available Device: _DeviceAttributes(/job:worker/replica:0/task:0/device:CPU:0, CPU, 0, 0)\n"
          ],
          "name": "stderr"
        },
        {
          "output_type": "stream",
          "text": [
            "INFO:tensorflow:*** Available Device: _DeviceAttributes(/job:worker/replica:0/task:0/device:TPU:0, TPU, 0, 0)\n"
          ],
          "name": "stdout"
        },
        {
          "output_type": "stream",
          "text": [
            "INFO:tensorflow:*** Available Device: _DeviceAttributes(/job:worker/replica:0/task:0/device:TPU:0, TPU, 0, 0)\n"
          ],
          "name": "stderr"
        },
        {
          "output_type": "stream",
          "text": [
            "INFO:tensorflow:*** Available Device: _DeviceAttributes(/job:worker/replica:0/task:0/device:TPU:1, TPU, 0, 0)\n"
          ],
          "name": "stdout"
        },
        {
          "output_type": "stream",
          "text": [
            "INFO:tensorflow:*** Available Device: _DeviceAttributes(/job:worker/replica:0/task:0/device:TPU:1, TPU, 0, 0)\n"
          ],
          "name": "stderr"
        },
        {
          "output_type": "stream",
          "text": [
            "INFO:tensorflow:*** Available Device: _DeviceAttributes(/job:worker/replica:0/task:0/device:TPU:2, TPU, 0, 0)\n"
          ],
          "name": "stdout"
        },
        {
          "output_type": "stream",
          "text": [
            "INFO:tensorflow:*** Available Device: _DeviceAttributes(/job:worker/replica:0/task:0/device:TPU:2, TPU, 0, 0)\n"
          ],
          "name": "stderr"
        },
        {
          "output_type": "stream",
          "text": [
            "INFO:tensorflow:*** Available Device: _DeviceAttributes(/job:worker/replica:0/task:0/device:TPU:3, TPU, 0, 0)\n"
          ],
          "name": "stdout"
        },
        {
          "output_type": "stream",
          "text": [
            "INFO:tensorflow:*** Available Device: _DeviceAttributes(/job:worker/replica:0/task:0/device:TPU:3, TPU, 0, 0)\n"
          ],
          "name": "stderr"
        },
        {
          "output_type": "stream",
          "text": [
            "INFO:tensorflow:*** Available Device: _DeviceAttributes(/job:worker/replica:0/task:0/device:TPU:4, TPU, 0, 0)\n"
          ],
          "name": "stdout"
        },
        {
          "output_type": "stream",
          "text": [
            "INFO:tensorflow:*** Available Device: _DeviceAttributes(/job:worker/replica:0/task:0/device:TPU:4, TPU, 0, 0)\n"
          ],
          "name": "stderr"
        },
        {
          "output_type": "stream",
          "text": [
            "INFO:tensorflow:*** Available Device: _DeviceAttributes(/job:worker/replica:0/task:0/device:TPU:5, TPU, 0, 0)\n"
          ],
          "name": "stdout"
        },
        {
          "output_type": "stream",
          "text": [
            "INFO:tensorflow:*** Available Device: _DeviceAttributes(/job:worker/replica:0/task:0/device:TPU:5, TPU, 0, 0)\n"
          ],
          "name": "stderr"
        },
        {
          "output_type": "stream",
          "text": [
            "INFO:tensorflow:*** Available Device: _DeviceAttributes(/job:worker/replica:0/task:0/device:TPU:6, TPU, 0, 0)\n"
          ],
          "name": "stdout"
        },
        {
          "output_type": "stream",
          "text": [
            "INFO:tensorflow:*** Available Device: _DeviceAttributes(/job:worker/replica:0/task:0/device:TPU:6, TPU, 0, 0)\n"
          ],
          "name": "stderr"
        },
        {
          "output_type": "stream",
          "text": [
            "INFO:tensorflow:*** Available Device: _DeviceAttributes(/job:worker/replica:0/task:0/device:TPU:7, TPU, 0, 0)\n"
          ],
          "name": "stdout"
        },
        {
          "output_type": "stream",
          "text": [
            "INFO:tensorflow:*** Available Device: _DeviceAttributes(/job:worker/replica:0/task:0/device:TPU:7, TPU, 0, 0)\n"
          ],
          "name": "stderr"
        },
        {
          "output_type": "stream",
          "text": [
            "INFO:tensorflow:*** Available Device: _DeviceAttributes(/job:worker/replica:0/task:0/device:TPU_SYSTEM:0, TPU_SYSTEM, 0, 0)\n"
          ],
          "name": "stdout"
        },
        {
          "output_type": "stream",
          "text": [
            "INFO:tensorflow:*** Available Device: _DeviceAttributes(/job:worker/replica:0/task:0/device:TPU_SYSTEM:0, TPU_SYSTEM, 0, 0)\n"
          ],
          "name": "stderr"
        },
        {
          "output_type": "stream",
          "text": [
            "INFO:tensorflow:*** Available Device: _DeviceAttributes(/job:worker/replica:0/task:0/device:XLA_CPU:0, XLA_CPU, 0, 0)\n"
          ],
          "name": "stdout"
        },
        {
          "output_type": "stream",
          "text": [
            "INFO:tensorflow:*** Available Device: _DeviceAttributes(/job:worker/replica:0/task:0/device:XLA_CPU:0, XLA_CPU, 0, 0)\n"
          ],
          "name": "stderr"
        },
        {
          "output_type": "stream",
          "text": [
            "Number of replicas: 8\n"
          ],
          "name": "stdout"
        }
      ]
    },
    {
      "cell_type": "markdown",
      "metadata": {
        "id": "xu80DbN8JO7n"
      },
      "source": [
        "# Set up variables\n",
        "We'll set up some of our variables for our notebook here. \n",
        "\n",
        "If by chance you're using a private dataset, you'll also want to make sure that you have the **Google Cloud Software Development Kit (SDK)** attached to your notebook. You can find the Google Cloud SDK under the `Add-ons` dropdown menu at the top of your notebook. Documentation for the **Google Cloud Software Development Kit (SDK)** can be found **[here](https://www.kaggle.com/product-feedback/163416)**."
      ]
    },
    {
      "cell_type": "code",
      "metadata": {
        "id": "PQn7EK4HJO7p"
      },
      "source": [
        "AUTOTUNE = tf.data.experimental.AUTOTUNE\n",
        "GCS_PATH = \"gs://cassava-leaf-disease-classification-kaggle/data\"\n",
        "BATCH_SIZE = 16 * strategy.num_replicas_in_sync\n",
        "# BATCH_SIZE = 8\n",
        "IMAGE_SIZE = [512, 512]\n",
        "CLASSES = ['0', '1', '2', '3', '4']\n",
        "TARGET_DTYPE = tf.bfloat16\n",
        "EPOCHS = 25"
      ],
      "execution_count": null,
      "outputs": []
    },
    {
      "cell_type": "markdown",
      "metadata": {
        "id": "Hd52ApCUJO7s"
      },
      "source": [
        "# Load the data\n",
        "If you've primarily worked with notebooks in Learn, you've maybe noticed that data import and formatting is taken care of for you. But because we're working with competition data we'll have to handle this part of the pipeline ourselves.   \n",
        "\n",
        "The data we're working with have been formatted into `TFRecords`, which are a format for storing a sequence of binary records. `TFRecords` work _really_ well with TPUs, and allow us to send a small number of large files across the TPU for processing.   \n",
        "\n",
        "If you'd like to learn more about `TFRecords` and maybe even try creating them yourself, check out this **[TFRecords Basics notebook](https://www.kaggle.com/ryanholbrook/tfrecords-basics)** and **[corresponding video](https://youtu.be/KgjaC9VeOi8)** from Kaggle Data Scientist Ryan Holbrook.  \n",
        "\n",
        "Because our data consists of `training` and `test` images only, we're going to split our `training` data into `training` and `validation` data using the `train_test_split()` function. "
      ]
    },
    {
      "cell_type": "markdown",
      "metadata": {
        "id": "DJ76bKZTJO7t"
      },
      "source": [
        "## Decode the data\n",
        "In the code chunk below we'll set up a series of functions that allow us to convert our images into tensors so that we can utilize them in our model. We'll also normalize our data. Our images are using a \"Red, Blue, Green (RBG)\" scale that has a range of [0, 255], and by normalizing it we'll set each pixel's value to a number in the range of [0, 1]. "
      ]
    },
    {
      "cell_type": "code",
      "metadata": {
        "id": "o08oPZYGJO7w"
      },
      "source": [
        "def decode_image(image):\n",
        "    image = tf.image.decode_jpeg(image, channels=3)\n",
        "    image = tf.cast(image, tf.float32) / 255.0\n",
        "    image = tf.reshape(image, [*IMAGE_SIZE, 3])\n",
        "    return image"
      ],
      "execution_count": null,
      "outputs": []
    },
    {
      "cell_type": "markdown",
      "metadata": {
        "id": "SStDvcYVJO7x"
      },
      "source": [
        "If you think back to **[Intro to Machine Learning](https://www.kaggle.com/learn/intro-to-machine-learning)** you might remember how we set up variables like `X` and `y`, representing our `features`, `X`, and `prediction target`, `y`. This code is accomplishing something similar, although instead of using the labels `X` and `y`, our `features` are represented by the term `image` and our `prediction target` by the term `target`.  \n",
        "\n",
        "You might also notice that this function accounts for unlabeled images. This is because our test image doesn't have any labels.  "
      ]
    },
    {
      "cell_type": "code",
      "metadata": {
        "id": "BwPZie4cJO7y"
      },
      "source": [
        "def read_tfrecord(example, labeled):\n",
        "    tfrecord_format = {\n",
        "        \"image\": tf.io.FixedLenFeature([], tf.string),\n",
        "        \"target\": tf.io.FixedLenFeature([], tf.int64)\n",
        "    } if labeled else {\n",
        "        \"image\": tf.io.FixedLenFeature([], tf.string),\n",
        "        \"image_name\": tf.io.FixedLenFeature([], tf.string)\n",
        "    }\n",
        "    example = tf.io.parse_single_example(example, tfrecord_format)\n",
        "    image = decode_image(example['image'])\n",
        "    if labeled:\n",
        "        label = tf.cast(example['target'], tf.int32)\n",
        "        return image, label\n",
        "    idnum = example['image_name']\n",
        "    return image, idnum"
      ],
      "execution_count": null,
      "outputs": []
    },
    {
      "cell_type": "markdown",
      "metadata": {
        "id": "ySmsMOGeJO7z"
      },
      "source": [
        "We'll use the following function to load our dataset. One of the advantages of a TPU is that we can run multiple files across the TPU at once, and this accounts for the speed advantages of using a TPU. To capitalize on that, we want to make sure that we're using data as soon as it streams in, rather than creating a data streaming bottleneck."
      ]
    },
    {
      "cell_type": "code",
      "metadata": {
        "id": "C-W5ya_-JO7z"
      },
      "source": [
        "def load_dataset(filenames, labeled=True, ordered=False):\n",
        "    ignore_order = tf.data.Options()\n",
        "    if not ordered:\n",
        "        ignore_order.experimental_deterministic = False # disable order, increase speed\n",
        "    dataset = tf.data.TFRecordDataset(filenames, num_parallel_reads=AUTOTUNE) # automatically interleaves reads from multiple files\n",
        "    dataset = dataset.with_options(ignore_order) # uses data as soon as it streams in, rather than in its original order\n",
        "    dataset = dataset.map(partial(read_tfrecord, labeled=labeled), num_parallel_calls=AUTOTUNE)\n",
        "    return dataset"
      ],
      "execution_count": null,
      "outputs": []
    },
    {
      "cell_type": "markdown",
      "metadata": {
        "id": "JpJx6i9hJO70"
      },
      "source": [
        "## A note on using train_test_split()\n",
        "While I used `train_test_split()` to create both a `training` and `validation` dataset, consider exploring **[cross validation instead](https://www.kaggle.com/dansbecker/cross-validation)**."
      ]
    },
    {
      "cell_type": "code",
      "metadata": {
        "id": "QJxuGBaeJO70"
      },
      "source": [
        "TRAINING_FILENAMES, VALID_FILENAMES = train_test_split(\n",
        "    tf.io.gfile.glob(GCS_PATH + '/train_tfrecords/ld_train*.tfrec'),\n",
        "    test_size=0.2, random_state=5\n",
        ")\n",
        "\n",
        "TEST_FILENAMES = tf.io.gfile.glob(GCS_PATH + '/test_tfrecords/ld_test*.tfrec')"
      ],
      "execution_count": null,
      "outputs": []
    },
    {
      "cell_type": "markdown",
      "metadata": {
        "id": "gIedc2BSJO70"
      },
      "source": [
        "## Adding in augmentations \n",
        "You learned about augmentations in the **[Computer Vision: Data Augmentation](https://www.kaggle.com/ryanholbrook/data-augmentation)** lesson on Kaggle Learn, and here I've applied an augmentation available to us through TensorFlow. You can read more about these augmentations (as well as all of the other augmentations available to you!) in the **[TensorFlow tf.image documentation](https://www.tensorflow.org/api_docs/python/tf/image)**.  \n",
        "\n",
        "If you're interested in learning how to create and use custom augmentations, check out these **[Rotation Augmentation GPU/TPU](https://www.kaggle.com/cdeotte/rotation-augmentation-gpu-tpu-0-96)** and **[CutMix and MixUp on GPU/TPU](https://www.kaggle.com/cdeotte/cutmix-and-mixup-on-gpu-tpu)** from Kaggle Grandmaster Chris Deotte."
      ]
    },
    {
      "cell_type": "code",
      "metadata": {
        "id": "_jpBcF2TDnsn"
      },
      "source": [
        "def get_batch_transformation_matrix_gpu(rotation, shear, height_zoom, width_zoom, height_shift, width_shift):\n",
        "    \"\"\"Returns a tf.Tensor of shape (batch_size, 3, 3) with each element along the 1st axis being\n",
        "       an image transformation matrix (which transforms indicies).\n",
        "\n",
        "    Args:\n",
        "        rotation: 1-D Tensor with shape [batch_size].\n",
        "        shear: 1-D Tensor with shape [batch_size].\n",
        "        height_zoom: 1-D Tensor with shape [batch_size].\n",
        "        width_zoom: 1-D Tensor with shape [batch_size].\n",
        "        height_shift: 1-D Tensor with shape [batch_size].\n",
        "        width_shift: 1-D Tensor with shape [batch_size].\n",
        "        \n",
        "    Returns:\n",
        "        A 3-D Tensor with shape [batch_size, 3, 3].\n",
        "    \"\"\"    \n",
        "\n",
        "    # A trick to get batch_size\n",
        "    batch_size = tf.cast(tf.reduce_sum(tf.ones_like(rotation)), tf.int64)    \n",
        "    \n",
        "    # CONVERT DEGREES TO RADIANS\n",
        "    rotation = tf.constant(math.pi) * rotation / 180.0\n",
        "    shear = tf.constant(math.pi) * shear / 180.0\n",
        "\n",
        "    # shape = (batch_size,)\n",
        "    one = tf.ones_like(rotation, dtype=tf.float32)\n",
        "    zero = tf.zeros_like(rotation, dtype=tf.float32)\n",
        "    \n",
        "    # ROTATION MATRIX\n",
        "    c1 = tf.math.cos(rotation) # shape = (batch_size,)\n",
        "    s1 = tf.math.sin(rotation) # shape = (batch_size,)\n",
        "\n",
        "    # Intermediate matrix for rotation, shape = (9, batch_size) \n",
        "    rotation_matrix_temp = tf.stack([c1, s1, zero, -s1, c1, zero, zero, zero, one], axis=0)\n",
        "    # shape = (batch_size, 9)\n",
        "    rotation_matrix_temp = tf.transpose(rotation_matrix_temp)\n",
        "    # Fianl rotation matrix, shape = (batch_size, 3, 3)\n",
        "    rotation_matrix = tf.reshape(rotation_matrix_temp, shape=(batch_size, 3, 3))\n",
        "        \n",
        "    # SHEAR MATRIX\n",
        "    c2 = tf.math.cos(shear) # shape = (batch_size,)\n",
        "    s2 = tf.math.sin(shear) # shape = (batch_size,)\n",
        "    \n",
        "    # Intermediate matrix for shear, shape = (9, batch_size) \n",
        "    shear_matrix_temp = tf.stack([one, s2, zero, zero, c2, zero, zero, zero, one], axis=0)\n",
        "    # shape = (batch_size, 9)\n",
        "    shear_matrix_temp = tf.transpose(shear_matrix_temp)\n",
        "    # Fianl shear matrix, shape = (batch_size, 3, 3)\n",
        "    shear_matrix = tf.reshape(shear_matrix_temp, shape=(batch_size, 3, 3))    \n",
        "    \n",
        "\n",
        "    # ZOOM MATRIX\n",
        "    \n",
        "    # Intermediate matrix for zoom, shape = (9, batch_size) \n",
        "    zoom_matrix_temp = tf.stack([one / height_zoom, zero, zero, zero, one / width_zoom, zero, zero, zero, one], axis=0)\n",
        "    # shape = (batch_size, 9)\n",
        "    zoom_matrix_temp = tf.transpose(zoom_matrix_temp)\n",
        "    # Fianl zoom matrix, shape = (batch_size, 3, 3)\n",
        "    zoom_matrix = tf.reshape(zoom_matrix_temp, shape=(batch_size, 3, 3))\n",
        "    \n",
        "    # SHIFT MATRIX\n",
        "    \n",
        "    # Intermediate matrix for shift, shape = (9, batch_size) \n",
        "    shift_matrix_temp = tf.stack([one, zero, height_shift, zero, one, width_shift, zero, zero, one], axis=0)\n",
        "    # shape = (batch_size, 9)\n",
        "    shift_matrix_temp = tf.transpose(shift_matrix_temp)\n",
        "    # Fianl shift matrix, shape = (batch_size, 3, 3)\n",
        "    shift_matrix = tf.reshape(shift_matrix_temp, shape=(batch_size, 3, 3))    \n",
        "        \n",
        "    return tf.linalg.matmul(tf.linalg.matmul(rotation_matrix, shear_matrix), tf.linalg.matmul(zoom_matrix, shift_matrix))\n",
        "\n",
        "def batch_transform(images):\n",
        "    \"\"\"Returns a tf.Tensor of the same shape as `images`, represented a batch of randomly transformed images.\n",
        "\n",
        "    Args:\n",
        "        images: 4-D Tensor with shape (batch_size, width, hight, depth).\n",
        "            Currently, `depth` can only be 3.\n",
        "        \n",
        "    Returns:\n",
        "        A 4-D Tensor with the same shape as `images`.\n",
        "    \"\"\" \n",
        "    \n",
        "    # input `images`: a batch of images [batch_size, dim, dim, 3]\n",
        "    # output: images randomly rotated, sheared, zoomed, and shifted\n",
        "    DIM = images.shape[1]\n",
        "    XDIM = DIM % 2  # fix for size 331\n",
        "    \n",
        "    # A trick to get batch_size\n",
        "    batch_size = tf.cast(tf.reduce_sum(tf.ones_like(images)) / (images.shape[1] * images.shape[2] * images.shape[3]), tf.int64)\n",
        "    \n",
        "    rot = 15.0 * tf.random.normal([batch_size], dtype='float32')\n",
        "    shr = 5.0 * tf.random.normal([batch_size], dtype='float32') \n",
        "    h_zoom = 1.0 + tf.random.normal([batch_size], dtype='float32') / 10.0\n",
        "    w_zoom = 1.0 + tf.random.normal([batch_size], dtype='float32') / 10.0\n",
        "    h_shift = 16.0 * tf.random.normal([batch_size], dtype='float32') \n",
        "    w_shift = 16.0 * tf.random.normal([batch_size], dtype='float32') \n",
        "  \n",
        "    # GET TRANSFORMATION MATRIX\n",
        "    # shape = (batch_size, 3, 3)\n",
        "    m = get_batch_transformation_matrix_gpu(rot, shr, h_zoom, w_zoom, h_shift, w_shift) \n",
        "\n",
        "    # LIST DESTINATION PIXEL INDICES\n",
        "    x = tf.repeat(tf.range(DIM // 2, -DIM // 2, -1), DIM)  # shape = (DIM * DIM,)\n",
        "    y = tf.tile(tf.range(-DIM // 2, DIM // 2), [DIM])  # shape = (DIM * DIM,)\n",
        "    z = tf.ones([DIM * DIM], dtype='int32')  # shape = (DIM * DIM,)\n",
        "    idx = tf.stack([x, y, z])  # shape = (3, DIM * DIM)\n",
        "    \n",
        "    # ROTATE DESTINATION PIXELS ONTO ORIGIN PIXELS\n",
        "    idx2 = tf.linalg.matmul(m, tf.cast(idx, dtype='float32'))  # shape = (batch_size, 3, DIM ** 2)\n",
        "    idx2 = K.cast(idx2, dtype='int32')  # shape = (batch_size, 3, DIM ** 2)\n",
        "    idx2 = K.clip(idx2, -DIM // 2 + XDIM + 1, DIM // 2)  # shape = (batch_size, 3, DIM ** 2)\n",
        "    \n",
        "    # FIND ORIGIN PIXEL VALUES\n",
        "    # shape = (batch_size, 2, DIM ** 2)\n",
        "    idx3 = tf.stack([DIM // 2 - idx2[:, 0, ], DIM // 2 - 1 + idx2[:, 1, ]], axis=1)  \n",
        "    \n",
        "    # shape = (batch_size, DIM ** 2, 3)\n",
        "    d = tf.gather_nd(images, tf.transpose(idx3, perm=[0, 2, 1]), batch_dims=1)\n",
        "        \n",
        "    # shape = (batch_size, DIM, DIM, 3)\n",
        "    new_images = tf.reshape(d, (batch_size, DIM, DIM, 3))\n",
        "\n",
        "    return new_images\n",
        "\n",
        "class Data_Augmentation(tf.keras.layers.Layer):\n",
        "    \"\"\"\n",
        "    This layer is ready to be used along with image class models.\n",
        "    \"\"\"\n",
        "    \n",
        "    def __init__(self):\n",
        "        \n",
        "        super(Data_Augmentation, self).__init__()\n",
        "        \n",
        "\n",
        "    def build(self, input_shape):  # Create the state of the layer (weights)\n",
        "    \n",
        "        pass\n",
        "        \n",
        "    def call(self, inputs):  # Defines the computation from inputs to outputs\n",
        "    \n",
        "        new_images = batch_transform(inputs)\n",
        "        \n",
        "        return new_images"
      ],
      "execution_count": null,
      "outputs": []
    },
    {
      "cell_type": "code",
      "metadata": {
        "id": "Xlj-NSqlErEl"
      },
      "source": [
        "# chance of x in y to return true, used for conditional data augmentation\n",
        "def chance(x, y):\n",
        "    return tf.random.uniform(shape=[], minval=0, maxval=y, dtype=tf.int32) < x"
      ],
      "execution_count": null,
      "outputs": []
    },
    {
      "cell_type": "code",
      "metadata": {
        "id": "VTe_DvxGX6sI"
      },
      "source": [
        "def get_mix_img_idx(labels_idxs, idx):\n",
        "    idx_candidates = tf.where(labels_idxs != idx)\n",
        "    r = tf.random.uniform(minval=0, maxval=len(idx_candidates), shape=[], dtype=tf.int32)\n",
        "    idx = tf.gather(idx_candidates, r)\n",
        "    idx = tf.cast(idx, tf.int32)\n",
        "    idx = tf.squeeze(idx)\n",
        "    \n",
        "    return idx"
      ],
      "execution_count": null,
      "outputs": []
    },
    {
      "cell_type": "code",
      "metadata": {
        "id": "QfRlqLKWAedu"
      },
      "source": [
        "def mixup(images, labels, alpha=0.40):\n",
        "    l = len(images)\n",
        "    # get image factors\n",
        "    a = tfp.distributions.Beta(alpha, alpha).sample(l)\n",
        "    a_label = tf.reshape(a, shape=(l,1))\n",
        "    a_label = tf.tile(a_label, [1, 5])\n",
        "    b_label = 1 - a_label\n",
        "    \n",
        "    a_image = tf.reshape(a, shape=(l,1,1,1))\n",
        "    a_image = tf.tile(a_image, [1, *IMAGE_SIZE,3])\n",
        "    a_image = tf.cast(a_image, tf.float32)\n",
        "    b_image = 1 - a_image\n",
        "    \n",
        "    # get mixup image indices\n",
        "    if l == 2:\n",
        "        idxs = tf.constant([1, 0])\n",
        "    else:\n",
        "        labels_idxs = tf.range(len(labels))\n",
        "        idxs = tf.map_fn(lambda idx: get_mix_img_idx(labels_idxs, idx), tf.range(len(labels)))\n",
        "    \n",
        "    images_mixup = tf.gather(images, idxs)\n",
        "    labels_mixup = tf.gather(labels, idxs)\n",
        "    \n",
        "    # mixup images and labels\n",
        "    images =  images * a_image + images_mixup * b_image\n",
        "    labels = labels * a_label + labels_mixup * b_label\n",
        "    \n",
        "    images = tf.cast(images, TARGET_DTYPE)\n",
        "    \n",
        "    return images, labels"
      ],
      "execution_count": null,
      "outputs": []
    },
    {
      "cell_type": "code",
      "metadata": {
        "id": "m64mfF0EAr2X"
      },
      "source": [
        "def create_cutmix_mask(a):\n",
        "    # create random mask size and coordinates\n",
        "    r_w = tf.cast(IMAGE_SIZE[0] * tf.math.sqrt(1 - a), tf.int32)\n",
        "    r_h = tf.cast(IMAGE_SIZE[0] * tf.math.sqrt(1 - a), tf.int32)\n",
        "    \n",
        "    if r_w == IMAGE_SIZE[0]:\n",
        "        r_x = 0\n",
        "    else:\n",
        "        r_x = tf.random.uniform(minval=0, maxval=IMAGE_SIZE[0] - r_w, shape=[], dtype=tf.int32)\n",
        "        \n",
        "    if r_h == IMAGE_SIZE[0]:\n",
        "        r_y = 0\n",
        "    else:\n",
        "        r_y = tf.random.uniform(minval=0, maxval=IMAGE_SIZE[0] - r_w, shape=[], dtype=tf.int32)\n",
        "\n",
        "    # compute padding sizes\n",
        "    pad_left = r_x\n",
        "    pad_right = IMAGE_SIZE[0] - (r_x + r_w)\n",
        "    pad_top = r_y\n",
        "    pad_bottom = IMAGE_SIZE[0] - (r_y + r_h)\n",
        "    \n",
        "    # create mask_a and mask_b\n",
        "    mask_a = tf.ones(shape=[r_w, r_h], dtype=tf.float32)\n",
        "    mask_a = tf.pad(mask_a, [[pad_left, pad_right], [pad_top, pad_bottom]], mode='CONSTANT', constant_values=0)\n",
        "    mask_a = tf.expand_dims(mask_a, axis=2)\n",
        "    \n",
        "    return mask_a\n",
        "\n",
        "def cutmix(images, labels):\n",
        "    l = len(images)\n",
        "    a_float32 = tfp.distributions.Beta(1.0, 1.0).sample([l])\n",
        "\n",
        "    mask_b = tf.map_fn(create_cutmix_mask, a_float32)\n",
        "    mask_a = tf.math.abs(mask_b - 1)\n",
        "    \n",
        "    # images_idxs\n",
        "    if l == 2:\n",
        "        idxs = tf.constant([1, 0])\n",
        "    else:\n",
        "        labels_idxs = tf.range(len(labels))\n",
        "        idxs = tf.map_fn(lambda idx: get_mix_img_idx(labels_idxs, idx), tf.range(len(labels)))\n",
        "    \n",
        "    images_cutmix = tf.gather(images, idxs)\n",
        "    labels_cutmix = tf.gather(labels, idxs)\n",
        "    \n",
        "    a_float32_labels = tf.expand_dims(a_float32, axis=1)\n",
        "    a_float32_labels = tf.repeat(a_float32_labels, len(CLASSES), axis=1)\n",
        "    labels_factor = a_float32_labels\n",
        "    labels_cutmix_factor = 1 - a_float32_labels\n",
        "    \n",
        "    # cutmix images and labels\n",
        "    images = images * mask_a + images_cutmix * mask_b\n",
        "    labels = labels * labels_factor + labels_cutmix * labels_cutmix_factor\n",
        "    \n",
        "    images = tf.cast(images, TARGET_DTYPE)\n",
        "    \n",
        "    return images, labels"
      ],
      "execution_count": null,
      "outputs": []
    },
    {
      "cell_type": "code",
      "metadata": {
        "id": "zNN1CS_xBzxd"
      },
      "source": [
        "def gridmask(images, labels):\n",
        "    l = len(images)\n",
        "    \n",
        "    d = tf.random.uniform(minval=int(IMAGE_SIZE[0] * (96/224)), maxval=IMAGE_SIZE[0], shape=[], dtype=tf.int32)\n",
        "    grid = tf.constant([[[0], [1]],[[1], [0]]], dtype=tf.float32)\n",
        "    grid = tf.image.resize(grid, [d, d], method='nearest')\n",
        "    \n",
        "    # 50% chance to rotate mask\n",
        "    if chance(1, 2):\n",
        "        grid = tf.image.rot90(grid, 1)\n",
        "\n",
        "    repeats = IMAGE_SIZE[0] // d + 1\n",
        "    grid = tf.tile(grid, multiples=[repeats, repeats, 1])\n",
        "    grid = tf.image.random_crop(grid, [*IMAGE_SIZE, 1])\n",
        "    grid = tf.expand_dims(grid, axis=0)\n",
        "    grid = tf.tile(grid, multiples=[l, 1, 1, 1])\n",
        "\n",
        "    images = images * grid\n",
        "    images = tf.cast(images, TARGET_DTYPE)\n",
        "    \n",
        "    return images, labels"
      ],
      "execution_count": null,
      "outputs": []
    },
    {
      "cell_type": "code",
      "metadata": {
        "colab": {
          "base_uri": "https://localhost:8080/"
        },
        "id": "xH2jC5mrLZ3A",
        "outputId": "85d0974c-58fd-4381-d6f7-20a151c5ce59"
      },
      "source": [
        "tf.constant(1, dtype=tf.float32) == 2"
      ],
      "execution_count": null,
      "outputs": [
        {
          "output_type": "execute_result",
          "data": {
            "text/plain": [
              "<tf.Tensor: shape=(), dtype=bool, numpy=False>"
            ]
          },
          "metadata": {
            "tags": []
          },
          "execution_count": 81
        }
      ]
    },
    {
      "cell_type": "code",
      "metadata": {
        "id": "E57OrFZYCEH-"
      },
      "source": [
        "def augment_batch(images, labels, augmentations=None):\n",
        "    if augmentations is None:\n",
        "        r = tf.random.uniform(minval=0, maxval=4, shape=[], dtype=tf.int32)\n",
        "    else:\n",
        "        r = tf.random.uniform(minval=0, maxval=len(augmentations), shape=[], dtype=tf.int32)\n",
        "        r = tf.gather(augmentations, r)\n",
        "        \n",
        "    if r == 0:\n",
        "        print('0')\n",
        "        images = tf.cast(images, TARGET_DTYPE)\n",
        "        return images, labels\n",
        "    elif r == 1:\n",
        "        print('1')\n",
        "        return mixup(images, labels)\n",
        "    elif r == 2:\n",
        "        print('2')\n",
        "        return cutmix(images, labels)\n",
        "    elif r == 3:\n",
        "        print('3')\n",
        "        return gridmask(images, labels)\n",
        "    else:\n",
        "        print('x')\n",
        "        images = tf.cast(images, TARGET_DTYPE)\n",
        "        return images, labels"
      ],
      "execution_count": null,
      "outputs": []
    },
    {
      "cell_type": "code",
      "metadata": {
        "id": "venRpifRCPUV"
      },
      "source": [
        "def reshape_batch(images, labels):\n",
        "    images = tf.reshape(images, shape=[BATCH_SIZE, *IMAGE_SIZE, 3])\n",
        "    labels = tf.reshape(labels, shape=[BATCH_SIZE, 5])\n",
        "    \n",
        "    random_idxs = tf.random.shuffle(tf.range(BATCH_SIZE))\n",
        "    images = tf.gather(images, random_idxs)\n",
        "    labels = tf.gather(labels, random_idxs)\n",
        "    \n",
        "    return images, labels"
      ],
      "execution_count": null,
      "outputs": []
    },
    {
      "cell_type": "code",
      "metadata": {
        "id": "APv9uAySbi0F"
      },
      "source": [
        "def get_mat(rotation, shear, height_zoom, width_zoom, height_shift, width_shift):\n",
        "    # returns 3x3 transformmatrix which transforms indicies\n",
        "        \n",
        "    # CONVERT DEGREES TO RADIANS\n",
        "    rotation = math.pi * rotation / 180.\n",
        "    shear = math.pi * shear / 180.\n",
        "    \n",
        "    # ROTATION MATRIX\n",
        "    c1 = tf.math.cos(rotation)\n",
        "    s1 = tf.math.sin(rotation)\n",
        "    one = tf.constant([1],dtype='float32')\n",
        "    zero = tf.constant([0],dtype='float32')\n",
        "    rotation_matrix = tf.reshape( tf.concat([c1,s1,zero, -s1,c1,zero, zero,zero,one],axis=0),[3,3] )\n",
        "        \n",
        "    # SHEAR MATRIX\n",
        "    c2 = tf.math.cos(shear)\n",
        "    s2 = tf.math.sin(shear)\n",
        "    shear_matrix = tf.reshape( tf.concat([one,s2,zero, zero,c2,zero, zero,zero,one],axis=0),[3,3] )    \n",
        "    \n",
        "    # ZOOM MATRIX\n",
        "    zoom_matrix = tf.reshape( tf.concat([one/height_zoom,zero,zero, zero,one/width_zoom,zero, zero,zero,one],axis=0),[3,3] )\n",
        "    \n",
        "    # SHIFT MATRIX\n",
        "    shift_matrix = tf.reshape( tf.concat([one,zero,height_shift, zero,one,width_shift, zero,zero,one],axis=0),[3,3] )\n",
        "    \n",
        "    return K.dot(K.dot(rotation_matrix, shear_matrix), K.dot(zoom_matrix, shift_matrix))"
      ],
      "execution_count": null,
      "outputs": []
    },
    {
      "cell_type": "code",
      "metadata": {
        "id": "xTLPliSFJO71"
      },
      "source": [
        "def data_augment(image, label):\n",
        "    # Thanks to the dataset.prefetch(AUTO) statement in the following function this happens essentially for free on TPU. \n",
        "    # Data pipeline code is executed on the \"CPU\" part of the TPU while the TPU itself is computing gradients.\n",
        "    # input image - is one image of size [dim,dim,3] not a batch of [b,dim,dim,3]\n",
        "    # output - image randomly rotated, sheared, zoomed, and shifted\n",
        "    DIM = IMAGE_SIZE[0]\n",
        "    XDIM = DIM%2 #fix for size 331\n",
        "    \n",
        "    rot = 15. * tf.random.normal([1],dtype='float32')\n",
        "    shr = 5. * tf.random.normal([1],dtype='float32') \n",
        "    h_zoom = 1.0 + tf.random.normal([1],dtype='float32')/10.\n",
        "    w_zoom = 1.0 + tf.random.normal([1],dtype='float32')/10.\n",
        "    h_shift = 16. * tf.random.normal([1],dtype='float32') \n",
        "    w_shift = 16. * tf.random.normal([1],dtype='float32') \n",
        "  \n",
        "    # GET TRANSFORMATION MATRIX\n",
        "    m = get_mat(rot,shr,h_zoom,w_zoom,h_shift,w_shift) \n",
        "\n",
        "    # LIST DESTINATION PIXEL INDICES\n",
        "    x = tf.repeat( tf.range(DIM//2,-DIM//2,-1), DIM )\n",
        "    y = tf.tile( tf.range(-DIM//2,DIM//2),[DIM] )\n",
        "    z = tf.ones([DIM*DIM],dtype='int32')\n",
        "    idx = tf.stack( [x,y,z] )\n",
        "    \n",
        "    # ROTATE DESTINATION PIXELS ONTO ORIGIN PIXELS\n",
        "    idx2 = K.dot(m,tf.cast(idx,dtype='float32'))\n",
        "    idx2 = K.cast(idx2,dtype='int32')\n",
        "    idx2 = K.clip(idx2,-DIM//2+XDIM+1,DIM//2)\n",
        "    \n",
        "    # FIND ORIGIN PIXEL VALUES           \n",
        "    idx3 = tf.stack( [DIM//2-idx2[0,], DIM//2-1+idx2[1,]] )\n",
        "    d = tf.gather_nd(image,tf.transpose(idx3))\n",
        "        \n",
        "    return tf.reshape(d,[DIM,DIM,3]), tf.one_hot(label, len(CLASSES), dtype=tf.float32)"
      ],
      "execution_count": null,
      "outputs": []
    },
    {
      "cell_type": "markdown",
      "metadata": {
        "id": "z7DB1N6SJO71"
      },
      "source": [
        "## Define data loading methods\n",
        "The following functions will be used to load our `training`, `validation`, and `test` datasets, as well as print out the number of images in each dataset."
      ]
    },
    {
      "cell_type": "code",
      "metadata": {
        "id": "liqSdI6rJO72"
      },
      "source": [
        "def get_training_dataset():\n",
        "    dataset = load_dataset(TRAINING_FILENAMES, labeled=True)  \n",
        "    dataset = dataset.map(data_augment, num_parallel_calls=AUTOTUNE)\n",
        "    dataset = dataset.repeat()\n",
        "    dataset = dataset.shuffle(2048)\n",
        "    dataset = dataset.batch(16)\n",
        "    dataset = dataset.prefetch(AUTOTUNE)\n",
        "    dataset = dataset.map(lambda images, labels: augment_batch(images, labels, augmentations=[0, 1, 2, 3]), num_parallel_calls=AUTOTUNE)\n",
        "    dataset = dataset.batch(8)\n",
        "    dataset = dataset.map(reshape_batch, num_parallel_calls=1)\n",
        "    dataset = dataset.prefetch(1)\n",
        "    return dataset"
      ],
      "execution_count": null,
      "outputs": []
    },
    {
      "cell_type": "code",
      "metadata": {
        "id": "Rl2irILwJO72"
      },
      "source": [
        "def get_validation_dataset(ordered=False):\n",
        "    dataset = load_dataset(VALID_FILENAMES, labeled=True, ordered=ordered) \n",
        "    dataset = dataset.map(lambda images, labels: (images, tf.one_hot(labels, len(CLASSES), dtype=tf.int32)), num_parallel_calls=AUTOTUNE)\n",
        "    dataset = dataset.batch(BATCH_SIZE)\n",
        "    # dataset = dataset.cache()\n",
        "    dataset = dataset.prefetch(AUTOTUNE)\n",
        "    return dataset"
      ],
      "execution_count": null,
      "outputs": []
    },
    {
      "cell_type": "code",
      "metadata": {
        "id": "M9roVF3JJO72"
      },
      "source": [
        "def get_test_dataset(ordered=False):\n",
        "    dataset = load_dataset(TEST_FILENAMES, labeled=False, ordered=ordered)\n",
        "    dataset = dataset.batch(BATCH_SIZE)\n",
        "    dataset = dataset.prefetch(AUTOTUNE)\n",
        "    return dataset"
      ],
      "execution_count": null,
      "outputs": []
    },
    {
      "cell_type": "code",
      "metadata": {
        "id": "vc6JQiS3JO73"
      },
      "source": [
        "def count_data_items(filenames):\n",
        "    n = [int(re.compile(r\"-([0-9]*)\\.\").search(filename).group(1)) for filename in filenames]\n",
        "    return np.sum(n)"
      ],
      "execution_count": null,
      "outputs": []
    },
    {
      "cell_type": "code",
      "metadata": {
        "colab": {
          "base_uri": "https://localhost:8080/"
        },
        "id": "PGShGcVxJO73",
        "outputId": "35e7d1fb-41e3-47bb-ee4f-a68df4a599c6"
      },
      "source": [
        "NUM_TRAINING_IMAGES = count_data_items(TRAINING_FILENAMES)\n",
        "NUM_VALIDATION_IMAGES = count_data_items(VALID_FILENAMES)\n",
        "NUM_TEST_IMAGES = count_data_items(TEST_FILENAMES)\n",
        "\n",
        "print('Dataset: {} training images, {} validation images, {} (unlabeled) test images'.format(\n",
        "    NUM_TRAINING_IMAGES, NUM_VALIDATION_IMAGES, NUM_TEST_IMAGES))"
      ],
      "execution_count": null,
      "outputs": [
        {
          "output_type": "stream",
          "text": [
            "Dataset: 16045 training images, 5352 validation images, 1 (unlabeled) test images\n"
          ],
          "name": "stdout"
        }
      ]
    },
    {
      "cell_type": "markdown",
      "metadata": {
        "id": "CHLjdzTNJO73"
      },
      "source": [
        "# Brief exploratory data analysis (EDA)\n",
        "First we'll print out the shapes and labels for a sample of each of our three datasets:"
      ]
    },
    {
      "cell_type": "code",
      "metadata": {
        "id": "NMH9i7XtJO73"
      },
      "source": [
        "print(\"Training data shapes:\")\n",
        "for image, label in get_training_dataset().take(3):\n",
        "    print(image.numpy().shape, label.numpy().shape)\n",
        "print(\"Training data label examples:\", label.numpy())\n",
        "print(\"Validation data shapes:\")\n",
        "for image, label in get_validation_dataset().take(3):\n",
        "    print(image.numpy().shape, label.numpy().shape)\n",
        "print(\"Validation data label examples:\", label.numpy())\n",
        "print(\"Test data shapes:\")\n",
        "for image, idnum in get_test_dataset().take(3):\n",
        "    print(image.numpy().shape, idnum.numpy().shape)\n",
        "print(\"Test data IDs:\", idnum.numpy().astype('U')) # U=unicode string"
      ],
      "execution_count": null,
      "outputs": []
    },
    {
      "cell_type": "markdown",
      "metadata": {
        "id": "xog4iGdRJO73"
      },
      "source": [
        "The following code chunk sets up a series of functions that will print out a grid of images. The grid of images will contain images and their corresponding labels."
      ]
    },
    {
      "cell_type": "code",
      "metadata": {
        "id": "_hX0FIbvJO74"
      },
      "source": [
        "# numpy and matplotlib defaults\n",
        "np.set_printoptions(threshold=15, linewidth=80)\n",
        "\n",
        "def batch_to_numpy_images_and_labels(data):\n",
        "    images, labels = data\n",
        "    numpy_images = images.numpy()\n",
        "    numpy_labels = labels.numpy()\n",
        "    if numpy_labels.dtype == object: # binary string in this case, these are image ID strings\n",
        "        numpy_labels = [None for _ in enumerate(numpy_images)]\n",
        "    # If no labels, only image IDs, return None for labels (this is the case for test data)\n",
        "    return numpy_images, numpy_labels\n",
        "\n",
        "def title_from_label_and_target(label, correct_label):\n",
        "    if correct_label is None:\n",
        "        return CLASSES[label], True\n",
        "    correct = (label == correct_label)\n",
        "    return \"{} [{}{}{}]\".format(CLASSES[label], 'OK' if correct else 'NO', u\"\\u2192\" if not correct else '',\n",
        "                                CLASSES[correct_label] if not correct else ''), correct\n",
        "\n",
        "def display_one_plant(image, title, subplot, red=False, titlesize=16):\n",
        "    plt.subplot(*subplot)\n",
        "    plt.axis('off')\n",
        "    plt.imshow(image)\n",
        "    if len(title) > 0:\n",
        "        plt.title(title, fontsize=int(titlesize) if not red else int(titlesize/1.2), color='red' if red else 'black', fontdict={'verticalalignment':'center'}, pad=int(titlesize/1.5))\n",
        "    return (subplot[0], subplot[1], subplot[2]+1)\n",
        "\n",
        "def display_batch_of_images(databatch, predictions=None):\n",
        "    \"\"\"This will work with:\n",
        "    display_batch_of_images(images)\n",
        "    display_batch_of_images(images, predictions)\n",
        "    display_batch_of_images((images, labels))\n",
        "    display_batch_of_images((images, labels), predictions)\n",
        "    \"\"\"\n",
        "    # data\n",
        "    images, labels = batch_to_numpy_images_and_labels(databatch)\n",
        "    if labels is None:\n",
        "        labels = [None for _ in enumerate(images)]\n",
        "        \n",
        "    # auto-squaring: this will drop data that does not fit into square or square-ish rectangle\n",
        "    rows = int(math.sqrt(len(images)))\n",
        "    cols = len(images)//rows\n",
        "        \n",
        "    # size and spacing\n",
        "    FIGSIZE = 13.0\n",
        "    SPACING = 0.1\n",
        "    subplot=(rows,cols,1)\n",
        "    if rows < cols:\n",
        "        plt.figure(figsize=(FIGSIZE,FIGSIZE/cols*rows))\n",
        "    else:\n",
        "        plt.figure(figsize=(FIGSIZE/rows*cols,FIGSIZE))\n",
        "    \n",
        "    # display\n",
        "    for i, (image, label) in enumerate(zip(images[:rows*cols], labels[:rows*cols])):\n",
        "        title = '' if label is None else CLASSES[label]\n",
        "        correct = True\n",
        "        if predictions is not None:\n",
        "            title, correct = title_from_label_and_target(predictions[i], label)\n",
        "        dynamic_titlesize = FIGSIZE*SPACING/max(rows,cols)*40+3 # magic formula tested to work from 1x1 to 10x10 images\n",
        "        subplot = display_one_plant(image, title, subplot, not correct, titlesize=dynamic_titlesize)\n",
        "    \n",
        "    #layout\n",
        "    plt.tight_layout()\n",
        "    if label is None and predictions is None:\n",
        "        plt.subplots_adjust(wspace=0, hspace=0)\n",
        "    else:\n",
        "        plt.subplots_adjust(wspace=SPACING, hspace=SPACING)\n",
        "    plt.show()"
      ],
      "execution_count": null,
      "outputs": []
    },
    {
      "cell_type": "code",
      "metadata": {
        "colab": {
          "base_uri": "https://localhost:8080/"
        },
        "id": "ppO0rcZtJO74",
        "outputId": "25d0d7f2-3a83-4989-9963-bb666e3e2434"
      },
      "source": [
        "# load our training dataset for EDA\n",
        "training_dataset = get_training_dataset()\n",
        "training_dataset = training_dataset.unbatch().batch(20)\n",
        "train_batch = iter(training_dataset)"
      ],
      "execution_count": null,
      "outputs": [
        {
          "output_type": "stream",
          "text": [
            "0\n",
            "1\n",
            "2\n",
            "3\n",
            "x\n"
          ],
          "name": "stdout"
        }
      ]
    },
    {
      "cell_type": "code",
      "metadata": {
        "colab": {
          "base_uri": "https://localhost:8080/",
          "height": 316
        },
        "id": "d63-TRNZJO74",
        "outputId": "1074bde5-3248-48b2-d8a5-cf1d6ac05c79"
      },
      "source": [
        "# run this cell again for another randomized set of training images\n",
        "display_batch_of_images(next(train_batch))"
      ],
      "execution_count": null,
      "outputs": [
        {
          "output_type": "error",
          "ename": "TypeError",
          "evalue": "ignored",
          "traceback": [
            "\u001b[0;31m---------------------------------------------------------------------------\u001b[0m",
            "\u001b[0;31mTypeError\u001b[0m                                 Traceback (most recent call last)",
            "\u001b[0;32m<ipython-input-124-0eb5c13777fd>\u001b[0m in \u001b[0;36m<module>\u001b[0;34m()\u001b[0m\n\u001b[1;32m      1\u001b[0m \u001b[0;31m# run this cell again for another randomized set of training images\u001b[0m\u001b[0;34m\u001b[0m\u001b[0;34m\u001b[0m\u001b[0;34m\u001b[0m\u001b[0m\n\u001b[0;32m----> 2\u001b[0;31m \u001b[0mdisplay_batch_of_images\u001b[0m\u001b[0;34m(\u001b[0m\u001b[0mnext\u001b[0m\u001b[0;34m(\u001b[0m\u001b[0mtrain_batch\u001b[0m\u001b[0;34m)\u001b[0m\u001b[0;34m)\u001b[0m\u001b[0;34m\u001b[0m\u001b[0;34m\u001b[0m\u001b[0m\n\u001b[0m",
            "\u001b[0;32m<ipython-input-122-e20bed21ed36>\u001b[0m in \u001b[0;36mdisplay_batch_of_images\u001b[0;34m(databatch, predictions)\u001b[0m\n\u001b[1;32m     53\u001b[0m     \u001b[0;31m# display\u001b[0m\u001b[0;34m\u001b[0m\u001b[0;34m\u001b[0m\u001b[0;34m\u001b[0m\u001b[0m\n\u001b[1;32m     54\u001b[0m     \u001b[0;32mfor\u001b[0m \u001b[0mi\u001b[0m\u001b[0;34m,\u001b[0m \u001b[0;34m(\u001b[0m\u001b[0mimage\u001b[0m\u001b[0;34m,\u001b[0m \u001b[0mlabel\u001b[0m\u001b[0;34m)\u001b[0m \u001b[0;32min\u001b[0m \u001b[0menumerate\u001b[0m\u001b[0;34m(\u001b[0m\u001b[0mzip\u001b[0m\u001b[0;34m(\u001b[0m\u001b[0mimages\u001b[0m\u001b[0;34m[\u001b[0m\u001b[0;34m:\u001b[0m\u001b[0mrows\u001b[0m\u001b[0;34m*\u001b[0m\u001b[0mcols\u001b[0m\u001b[0;34m]\u001b[0m\u001b[0;34m,\u001b[0m \u001b[0mlabels\u001b[0m\u001b[0;34m[\u001b[0m\u001b[0;34m:\u001b[0m\u001b[0mrows\u001b[0m\u001b[0;34m*\u001b[0m\u001b[0mcols\u001b[0m\u001b[0;34m]\u001b[0m\u001b[0;34m)\u001b[0m\u001b[0;34m)\u001b[0m\u001b[0;34m:\u001b[0m\u001b[0;34m\u001b[0m\u001b[0;34m\u001b[0m\u001b[0m\n\u001b[0;32m---> 55\u001b[0;31m         \u001b[0mtitle\u001b[0m \u001b[0;34m=\u001b[0m \u001b[0;34m''\u001b[0m \u001b[0;32mif\u001b[0m \u001b[0mlabel\u001b[0m \u001b[0;32mis\u001b[0m \u001b[0;32mNone\u001b[0m \u001b[0;32melse\u001b[0m \u001b[0mCLASSES\u001b[0m\u001b[0;34m[\u001b[0m\u001b[0mlabel\u001b[0m\u001b[0;34m]\u001b[0m\u001b[0;34m\u001b[0m\u001b[0;34m\u001b[0m\u001b[0m\n\u001b[0m\u001b[1;32m     56\u001b[0m         \u001b[0mcorrect\u001b[0m \u001b[0;34m=\u001b[0m \u001b[0;32mTrue\u001b[0m\u001b[0;34m\u001b[0m\u001b[0;34m\u001b[0m\u001b[0m\n\u001b[1;32m     57\u001b[0m         \u001b[0;32mif\u001b[0m \u001b[0mpredictions\u001b[0m \u001b[0;32mis\u001b[0m \u001b[0;32mnot\u001b[0m \u001b[0;32mNone\u001b[0m\u001b[0;34m:\u001b[0m\u001b[0;34m\u001b[0m\u001b[0;34m\u001b[0m\u001b[0m\n",
            "\u001b[0;31mTypeError\u001b[0m: only integer scalar arrays can be converted to a scalar index"
          ]
        },
        {
          "output_type": "display_data",
          "data": {
            "text/plain": [
              "<Figure size 936x748.8 with 0 Axes>"
            ]
          },
          "metadata": {
            "tags": []
          }
        }
      ]
    },
    {
      "cell_type": "markdown",
      "metadata": {
        "id": "NaWCM0ZSJO75"
      },
      "source": [
        "You can also modify the above code to look at your `validation` and `test` data, like this:"
      ]
    },
    {
      "cell_type": "code",
      "metadata": {
        "id": "Rwav60CyJO76"
      },
      "source": [
        "# load our validation dataset for EDA\n",
        "validation_dataset = get_validation_dataset()\n",
        "validation_dataset = validation_dataset.unbatch().batch(20)\n",
        "valid_batch = iter(validation_dataset)"
      ],
      "execution_count": null,
      "outputs": []
    },
    {
      "cell_type": "code",
      "metadata": {
        "id": "tyJLBIfkJO77"
      },
      "source": [
        "# run this cell again for another randomized set of training images\n",
        "display_batch_of_images(next(valid_batch))"
      ],
      "execution_count": null,
      "outputs": []
    },
    {
      "cell_type": "code",
      "metadata": {
        "id": "NjVed_bIJO77"
      },
      "source": [
        "# load our test dataset for EDA\n",
        "testing_dataset = get_test_dataset()\n",
        "testing_dataset = testing_dataset.unbatch().batch(20)\n",
        "test_batch = iter(testing_dataset)"
      ],
      "execution_count": null,
      "outputs": []
    },
    {
      "cell_type": "code",
      "metadata": {
        "id": "C73Yqh3HJO77"
      },
      "source": [
        "# we only have one test image\n",
        "display_batch_of_images(next(test_batch))"
      ],
      "execution_count": null,
      "outputs": []
    },
    {
      "cell_type": "markdown",
      "metadata": {
        "id": "Tp_lsJRwJO77"
      },
      "source": [
        "# Building the model\n",
        "## Learning rate schedule\n",
        "We learned about learning rates in the **[Intro to Deep Learning: Stochastic Gradient Descent](https://www.kaggle.com/ryanholbrook/stochastic-gradient-descent)** lesson, and here I've created a learning rate schedule mostly using the defaults in the **[Keras Exponential Decay Learning Rate Scheduler](https://keras.io/api/optimizers/learning_rate_schedules/exponential_decay/)** documentation (I did change the `initial_learning_rate`. You can adjust the learning rate scheduler below, and read more about the other types of schedulers available to you in the **[Keras learning rate schedules API](https://keras.io/api/optimizers/learning_rate_schedules/)**."
      ]
    },
    {
      "cell_type": "code",
      "metadata": {
        "id": "owVD1OkMJO77"
      },
      "source": [
        "# lr_scheduler = keras.optimizers.schedules.ExponentialDecay(\n",
        "#     initial_learning_rate=1e-5, \n",
        "#     decay_steps=100, \n",
        "#     decay_rate=0.9)\n",
        "# lr_callback = keras.callbacks.ReduceLROnPlateau(monitor = 'val_loss', factor = 0.3, \n",
        "#                               patience = 2, min_delta = 0.001, \n",
        "#                               mode = 'min', verbose = 1)"
      ],
      "execution_count": null,
      "outputs": []
    },
    {
      "cell_type": "code",
      "metadata": {
        "colab": {
          "base_uri": "https://localhost:8080/",
          "height": 422
        },
        "id": "iidvCmB90VRq",
        "outputId": "369387cc-b36a-40d2-f2f4-ca901fcaec92"
      },
      "source": [
        "LEARNING_RATE = 1e-5 * strategy.num_replicas_in_sync\n",
        "\n",
        "def exponential_schedule_with_warmup(epoch):\n",
        "    '''\n",
        "    Create a schedule with a learning rate that decreases exponentially after linearly increasing during a warmup period.\n",
        "    '''\n",
        "    \n",
        "    warmup_epochs=3\n",
        "    hold_max_epochs=0\n",
        "    lr_start=1e-6\n",
        "    lr_max=LEARNING_RATE\n",
        "    lr_min=1e-6\n",
        "    decay=0.8\n",
        "        \n",
        "        \n",
        "    if epoch < warmup_epochs:\n",
        "        lr = (lr_max - lr_start) / warmup_epochs * epoch + lr_start\n",
        "    elif epoch < warmup_epochs + hold_max_epochs:\n",
        "        lr = lr_max\n",
        "    else:\n",
        "        lr = lr_max * (decay ** (epoch - warmup_epochs - hold_max_epochs))\n",
        "        if lr_min is not None:\n",
        "            lr = tf.math.maximum(lr_min, lr)\n",
        "            \n",
        "    return lr\n",
        "\n",
        "lr_callback = tf.keras.callbacks.LearningRateScheduler(exponential_schedule_with_warmup, verbose=True)\n",
        "\n",
        "rng = [i for i in range(EPOCHS)]\n",
        "y = [exponential_schedule_with_warmup(x) for x in rng]\n",
        "\n",
        "sns.set(style='whitegrid')\n",
        "fig, ax = plt.subplots(figsize=(20, 6))\n",
        "plt.plot(rng, y)\n",
        "\n",
        "print(f'{EPOCHS} total epochs and {NUM_TRAINING_IMAGES//BATCH_SIZE} steps per epoch')\n",
        "print(f'Learning rate schedule: {y[0]:.3g} to { max(y):.3g} to { y[-1]:.3g}')"
      ],
      "execution_count": null,
      "outputs": [
        {
          "output_type": "stream",
          "text": [
            "25 total epochs and 125 steps per epoch\n",
            "Learning rate schedule: 1e-06 to 8e-05 to 1e-06\n"
          ],
          "name": "stdout"
        },
        {
          "output_type": "display_data",
          "data": {
            "image/png": "[encoded data removed]",
            "text/plain": [
              "<Figure size 1440x432 with 1 Axes>"
            ]
          },
          "metadata": {
            "tags": []
          }
        }
      ]
    },
    {
      "cell_type": "code",
      "metadata": {
        "colab": {
          "base_uri": "https://localhost:8080/",
          "height": 282
        },
        "id": "UVEb2UYXeMAt",
        "outputId": "ea54e44f-0074-4333-ed0a-5d66ccd9a43a"
      },
      "source": [
        "# Learning rate schedule for TPU, GPU and CPU.\n",
        "# Using an LR ramp up because fine-tuning a pre-trained model.\n",
        "# Starting with a high LR would break the pre-trained weights.\n",
        "\n",
        "# LR_START = 0.00001\n",
        "# LR_MAX = 0.00005 * strategy.num_replicas_in_sync\n",
        "# LR_MIN = 0.00001\n",
        "# LR_RAMPUP_EPOCHS = 5\n",
        "# LR_SUSTAIN_EPOCHS = 0\n",
        "# LR_EXP_DECAY = .8\n",
        "\n",
        "# def lrfn(epoch):\n",
        "#     if epoch < LR_RAMPUP_EPOCHS:\n",
        "#         lr = (LR_MAX - LR_START) / LR_RAMPUP_EPOCHS * epoch + LR_START\n",
        "#     elif epoch < LR_RAMPUP_EPOCHS + LR_SUSTAIN_EPOCHS:\n",
        "#         lr = LR_MAX\n",
        "#     else:\n",
        "#         lr = (LR_MAX - LR_MIN) * LR_EXP_DECAY**(epoch - LR_RAMPUP_EPOCHS - LR_SUSTAIN_EPOCHS) + LR_MIN\n",
        "#     return lr\n",
        "    \n",
        "# lr_callback = tf.keras.callbacks.LearningRateScheduler(lrfn, verbose = True)\n",
        "\n",
        "# rng = [i for i in range(25 if EPOCHS<25 else EPOCHS)]\n",
        "# y = [lrfn(x) for x in rng]\n",
        "# plt.plot(rng, y)\n",
        "# print(\"Learning rate schedule: {:.3g} to {:.3g} to {:.3g}\".format(y[0], max(y), y[-1]))"
      ],
      "execution_count": null,
      "outputs": [
        {
          "output_type": "stream",
          "text": [
            "Learning rate schedule: 1e-05 to 0.0004 to 1.56e-05\n"
          ],
          "name": "stdout"
        },
        {
          "output_type": "display_data",
          "data": {
            "image/png": "[encoded data removed]",
            "text/plain": [
              "<Figure size 432x288 with 1 Axes>"
            ]
          },
          "metadata": {
            "tags": []
          }
        }
      ]
    },
    {
      "cell_type": "markdown",
      "metadata": {
        "id": "oEIZEkMuJO78"
      },
      "source": [
        "## Building our model\n",
        "In order to ensure that our model is trained on the TPU, we build it using `with strategy.scope()`.    \n",
        "\n",
        "This model was built using transfer learning, meaning that we have a _pre-trained model_ (ResNet50) as our base model and then the customizable model built using `tf.keras.Sequential`. If you're new to transfer learning I recommend setting `base_model.trainable` to **False**, but _do_ encourage you to change which base model you're using (more options are available in the **[`tf.keras.applications` Module](https://www.tensorflow.org/api_docs/python/tf/keras/applications)** documentation) as well iterate on the custom model. \n",
        "\n",
        "Note that we're using `sparse_categorical_crossentropy` as our loss function, because we did _not_ one-hot encode our labels."
      ]
    },
    {
      "cell_type": "code",
      "metadata": {
        "id": "2kRZpwTxbGIY"
      },
      "source": [
        "with strategy.scope():\n",
        "    img_adjust_layer = tf.keras.layers.Lambda(tf.keras.applications.efficientnet.preprocess_input, input_shape=[*IMAGE_SIZE, 3])\n",
        "    # data_augmentation_layer = Data_Augmentation()   \n",
        "    base_model = tf.keras.applications.efficientnet.EfficientNetB4(weights='imagenet', include_top=False)\n",
        "    # base_model.trainable = False\n",
        "\n",
        "    model = tf.keras.Sequential([\n",
        "        # tf.keras.layers.BatchNormalization(renorm=True),\n",
        "        # data_augmentation_layer,\n",
        "        img_adjust_layer,\n",
        "        base_model,\n",
        "        tf.keras.layers.GlobalAveragePooling2D(),\n",
        "        tf.keras.layers.Dense(64, activation='relu'),\n",
        "        #tf.keras.layers.BatchNormalization(renorm=True),\n",
        "        tf.keras.layers.Dropout(0.5),\n",
        "        tf.keras.layers.Dense(len(CLASSES), activation='softmax')  \n",
        "    ])\n",
        "\n",
        "    # model = SAMModel(model)\n",
        "\n",
        "    model.compile(\n",
        "        optimizer=tf.keras.optimizers.Adam(learning_rate=1e-5*strategy.num_replicas_in_sync),\n",
        "        loss='categorical_crossentropy',  \n",
        "        metrics=['categorical_accuracy'])"
      ],
      "execution_count": null,
      "outputs": []
    },
    {
      "cell_type": "markdown",
      "metadata": {
        "id": "d5NhVhujJO78"
      },
      "source": [
        "# Train the model\n",
        "As our model is training you'll see a printout for each epoch, and can also monitor TPU usage by clicking on the TPU metrics in the toolbar at the top right of your notebook."
      ]
    },
    {
      "cell_type": "code",
      "metadata": {
        "colab": {
          "base_uri": "https://localhost:8080/"
        },
        "id": "9auDgzTkJO78",
        "outputId": "ecfb0498-3d32-41b2-e464-6e38bc0c84c9"
      },
      "source": [
        "# load data\n",
        "train_dataset = get_training_dataset()\n",
        "valid_dataset = get_validation_dataset()"
      ],
      "execution_count": null,
      "outputs": [
        {
          "output_type": "stream",
          "text": [
            "0\n",
            "1\n",
            "2\n",
            "3\n",
            "x\n"
          ],
          "name": "stdout"
        }
      ]
    },
    {
      "cell_type": "code",
      "metadata": {
        "colab": {
          "base_uri": "https://localhost:8080/"
        },
        "id": "9IowU0NHJO78",
        "outputId": "8588f617-cefd-4a97-e5b1-d207d2426fcb"
      },
      "source": [
        "STEPS_PER_EPOCH = NUM_TRAINING_IMAGES // BATCH_SIZE\n",
        "VALID_STEPS = NUM_VALIDATION_IMAGES // BATCH_SIZE\n",
        "\n",
        "history = model.fit(train_dataset, \n",
        "                    steps_per_epoch=STEPS_PER_EPOCH, \n",
        "                    epochs=EPOCHS*2,\n",
        "                    validation_data=valid_dataset,\n",
        "                    validation_steps=VALID_STEPS,\n",
        "                    callbacks = [lr_callback])"
      ],
      "execution_count": null,
      "outputs": [
        {
          "output_type": "stream",
          "text": [
            "Epoch 1/50\n",
            "\n",
            "Epoch 00001: LearningRateScheduler reducing learning rate to 1e-06.\n",
            "125/125 [==============================] - 186s 713ms/step - loss: 1.5827 - categorical_accuracy: 0.2539 - val_loss: 1.6332 - val_categorical_accuracy: 0.0549\n",
            "Epoch 2/50\n",
            "\n",
            "Epoch 00002: LearningRateScheduler reducing learning rate to 2.7333333333333338e-05.\n",
            "125/125 [==============================] - 77s 617ms/step - loss: 1.2152 - categorical_accuracy: 0.5734 - val_loss: 1.4907 - val_categorical_accuracy: 0.4066\n",
            "Epoch 3/50\n",
            "\n",
            "Epoch 00003: LearningRateScheduler reducing learning rate to 5.366666666666667e-05.\n",
            "125/125 [==============================] - 77s 620ms/step - loss: 1.0016 - categorical_accuracy: 0.6519 - val_loss: 1.6563 - val_categorical_accuracy: 0.1831\n",
            "Epoch 4/50\n",
            "\n",
            "Epoch 00004: LearningRateScheduler reducing learning rate to tf.Tensor(8e-05, shape=(), dtype=float32).\n",
            "125/125 [==============================] - 78s 620ms/step - loss: 0.9276 - categorical_accuracy: 0.6746 - val_loss: 1.0137 - val_categorical_accuracy: 0.6139\n",
            "Epoch 5/50\n",
            "\n",
            "Epoch 00005: LearningRateScheduler reducing learning rate to tf.Tensor(6.4e-05, shape=(), dtype=float32).\n",
            "125/125 [==============================] - 77s 620ms/step - loss: 0.8725 - categorical_accuracy: 0.6988 - val_loss: 0.8599 - val_categorical_accuracy: 0.6869\n",
            "Epoch 6/50\n",
            "\n",
            "Epoch 00006: LearningRateScheduler reducing learning rate to tf.Tensor(5.12e-05, shape=(), dtype=float32).\n",
            "125/125 [==============================] - 78s 622ms/step - loss: 0.8485 - categorical_accuracy: 0.7133 - val_loss: 1.3512 - val_categorical_accuracy: 0.3870\n",
            "Epoch 7/50\n",
            "\n",
            "Epoch 00007: LearningRateScheduler reducing learning rate to tf.Tensor(4.096e-05, shape=(), dtype=float32).\n",
            "125/125 [==============================] - 77s 616ms/step - loss: 0.8222 - categorical_accuracy: 0.7232 - val_loss: 0.6569 - val_categorical_accuracy: 0.7645\n",
            "Epoch 8/50\n",
            "\n",
            "Epoch 00008: LearningRateScheduler reducing learning rate to tf.Tensor(3.2768e-05, shape=(), dtype=float32).\n",
            "125/125 [==============================] - 78s 621ms/step - loss: 0.7884 - categorical_accuracy: 0.7389 - val_loss: 0.6396 - val_categorical_accuracy: 0.7691\n",
            "Epoch 9/50\n",
            "\n",
            "Epoch 00009: LearningRateScheduler reducing learning rate to tf.Tensor(2.62144e-05, shape=(), dtype=float32).\n",
            "125/125 [==============================] - 77s 617ms/step - loss: 0.7975 - categorical_accuracy: 0.7339 - val_loss: 0.5918 - val_categorical_accuracy: 0.7856\n",
            "Epoch 10/50\n",
            "\n",
            "Epoch 00010: LearningRateScheduler reducing learning rate to tf.Tensor(2.097152e-05, shape=(), dtype=float32).\n",
            "125/125 [==============================] - 77s 619ms/step - loss: 0.7836 - categorical_accuracy: 0.7421 - val_loss: 0.5714 - val_categorical_accuracy: 0.7988\n",
            "Epoch 11/50\n",
            "\n",
            "Epoch 00011: LearningRateScheduler reducing learning rate to tf.Tensor(1.6777216e-05, shape=(), dtype=float32).\n",
            "125/125 [==============================] - 77s 620ms/step - loss: 0.7824 - categorical_accuracy: 0.7397 - val_loss: 0.7873 - val_categorical_accuracy: 0.7117\n",
            "Epoch 12/50\n",
            "\n",
            "Epoch 00012: LearningRateScheduler reducing learning rate to tf.Tensor(1.3421773e-05, shape=(), dtype=float32).\n",
            "125/125 [==============================] - 77s 618ms/step - loss: 0.7784 - categorical_accuracy: 0.7433 - val_loss: 0.6013 - val_categorical_accuracy: 0.7912\n",
            "Epoch 13/50\n",
            "\n",
            "Epoch 00013: LearningRateScheduler reducing learning rate to tf.Tensor(1.0737418e-05, shape=(), dtype=float32).\n",
            "125/125 [==============================] - 78s 620ms/step - loss: 0.7687 - categorical_accuracy: 0.7474 - val_loss: 0.5595 - val_categorical_accuracy: 0.8037\n",
            "Epoch 14/50\n",
            "\n",
            "Epoch 00014: LearningRateScheduler reducing learning rate to tf.Tensor(8.589935e-06, shape=(), dtype=float32).\n",
            "125/125 [==============================] - 77s 618ms/step - loss: 0.7577 - categorical_accuracy: 0.7531 - val_loss: 0.5549 - val_categorical_accuracy: 0.8013\n",
            "Epoch 15/50\n",
            "\n",
            "Epoch 00015: LearningRateScheduler reducing learning rate to tf.Tensor(6.871948e-06, shape=(), dtype=float32).\n",
            "125/125 [==============================] - 77s 619ms/step - loss: 0.7567 - categorical_accuracy: 0.7554 - val_loss: 0.5562 - val_categorical_accuracy: 0.8037\n",
            "Epoch 16/50\n",
            "\n",
            "Epoch 00016: LearningRateScheduler reducing learning rate to tf.Tensor(5.497558e-06, shape=(), dtype=float32).\n",
            "125/125 [==============================] - 77s 619ms/step - loss: 0.7576 - categorical_accuracy: 0.7513 - val_loss: 0.5543 - val_categorical_accuracy: 0.8034\n",
            "Epoch 17/50\n",
            "\n",
            "Epoch 00017: LearningRateScheduler reducing learning rate to tf.Tensor(4.3980467e-06, shape=(), dtype=float32).\n",
            "125/125 [==============================] - 77s 619ms/step - loss: 0.7454 - categorical_accuracy: 0.7541 - val_loss: 0.5517 - val_categorical_accuracy: 0.8058\n",
            "Epoch 18/50\n",
            "\n",
            "Epoch 00018: LearningRateScheduler reducing learning rate to tf.Tensor(3.518437e-06, shape=(), dtype=float32).\n",
            "125/125 [==============================] - 77s 619ms/step - loss: 0.7431 - categorical_accuracy: 0.7577 - val_loss: 0.5488 - val_categorical_accuracy: 0.8054\n",
            "Epoch 19/50\n",
            "\n",
            "Epoch 00019: LearningRateScheduler reducing learning rate to tf.Tensor(2.8147497e-06, shape=(), dtype=float32).\n",
            "125/125 [==============================] - 77s 618ms/step - loss: 0.7584 - categorical_accuracy: 0.7533 - val_loss: 0.5479 - val_categorical_accuracy: 0.8049\n",
            "Epoch 20/50\n",
            "\n",
            "Epoch 00020: LearningRateScheduler reducing learning rate to tf.Tensor(2.2517997e-06, shape=(), dtype=float32).\n",
            "125/125 [==============================] - 77s 619ms/step - loss: 0.7445 - categorical_accuracy: 0.7559 - val_loss: 0.5504 - val_categorical_accuracy: 0.8064\n",
            "Epoch 21/50\n",
            "\n",
            "Epoch 00021: LearningRateScheduler reducing learning rate to tf.Tensor(1.8014399e-06, shape=(), dtype=float32).\n",
            "125/125 [==============================] - 78s 621ms/step - loss: 0.7391 - categorical_accuracy: 0.7633 - val_loss: 0.5496 - val_categorical_accuracy: 0.8070\n",
            "Epoch 22/50\n",
            "\n",
            "Epoch 00022: LearningRateScheduler reducing learning rate to tf.Tensor(1.4411519e-06, shape=(), dtype=float32).\n",
            "125/125 [==============================] - 78s 625ms/step - loss: 0.7474 - categorical_accuracy: 0.7584 - val_loss: 0.5480 - val_categorical_accuracy: 0.8075\n",
            "Epoch 23/50\n",
            "\n",
            "Epoch 00023: LearningRateScheduler reducing learning rate to tf.Tensor(1.1529215e-06, shape=(), dtype=float32).\n",
            "125/125 [==============================] - 77s 616ms/step - loss: 0.7363 - categorical_accuracy: 0.7564 - val_loss: 0.5473 - val_categorical_accuracy: 0.8074\n",
            "Epoch 24/50\n",
            "\n",
            "Epoch 00024: LearningRateScheduler reducing learning rate to tf.Tensor(1e-06, shape=(), dtype=float32).\n",
            "125/125 [==============================] - 77s 618ms/step - loss: 0.7366 - categorical_accuracy: 0.7633 - val_loss: 0.5484 - val_categorical_accuracy: 0.8056\n",
            "Epoch 25/50\n",
            "\n",
            "Epoch 00025: LearningRateScheduler reducing learning rate to tf.Tensor(1e-06, shape=(), dtype=float32).\n",
            "125/125 [==============================] - 77s 617ms/step - loss: 0.7502 - categorical_accuracy: 0.7544 - val_loss: 0.5433 - val_categorical_accuracy: 0.8068\n",
            "Epoch 26/50\n",
            "\n",
            "Epoch 00026: LearningRateScheduler reducing learning rate to tf.Tensor(1e-06, shape=(), dtype=float32).\n",
            "125/125 [==============================] - 78s 621ms/step - loss: 0.7374 - categorical_accuracy: 0.7609 - val_loss: 0.5448 - val_categorical_accuracy: 0.8072\n",
            "Epoch 27/50\n",
            "\n",
            "Epoch 00027: LearningRateScheduler reducing learning rate to tf.Tensor(1e-06, shape=(), dtype=float32).\n",
            "125/125 [==============================] - 77s 619ms/step - loss: 0.7372 - categorical_accuracy: 0.7606 - val_loss: 0.5453 - val_categorical_accuracy: 0.8060\n",
            "Epoch 28/50\n",
            "\n",
            "Epoch 00028: LearningRateScheduler reducing learning rate to tf.Tensor(1e-06, shape=(), dtype=float32).\n",
            "125/125 [==============================] - 78s 621ms/step - loss: 0.7513 - categorical_accuracy: 0.7535 - val_loss: 0.5455 - val_categorical_accuracy: 0.8054\n",
            "Epoch 29/50\n",
            "\n",
            "Epoch 00029: LearningRateScheduler reducing learning rate to tf.Tensor(1e-06, shape=(), dtype=float32).\n",
            "125/125 [==============================] - 78s 626ms/step - loss: 0.7347 - categorical_accuracy: 0.7630 - val_loss: 0.5466 - val_categorical_accuracy: 0.8072\n",
            "Epoch 30/50\n",
            "\n",
            "Epoch 00030: LearningRateScheduler reducing learning rate to tf.Tensor(1e-06, shape=(), dtype=float32).\n",
            "125/125 [==============================] - 78s 621ms/step - loss: 0.7400 - categorical_accuracy: 0.7599 - val_loss: 0.5449 - val_categorical_accuracy: 0.8075\n",
            "Epoch 31/50\n",
            "\n",
            "Epoch 00031: LearningRateScheduler reducing learning rate to tf.Tensor(1e-06, shape=(), dtype=float32).\n",
            "125/125 [==============================] - 77s 620ms/step - loss: 0.7328 - categorical_accuracy: 0.7641 - val_loss: 0.5451 - val_categorical_accuracy: 0.8083\n",
            "Epoch 32/50\n",
            "\n",
            "Epoch 00032: LearningRateScheduler reducing learning rate to tf.Tensor(1e-06, shape=(), dtype=float32).\n",
            "125/125 [==============================] - 78s 621ms/step - loss: 0.7587 - categorical_accuracy: 0.7528 - val_loss: 0.5446 - val_categorical_accuracy: 0.8072\n",
            "Epoch 33/50\n",
            "\n",
            "Epoch 00033: LearningRateScheduler reducing learning rate to tf.Tensor(1e-06, shape=(), dtype=float32).\n",
            "125/125 [==============================] - 78s 621ms/step - loss: 0.7465 - categorical_accuracy: 0.7543 - val_loss: 0.5461 - val_categorical_accuracy: 0.8089\n",
            "Epoch 34/50\n",
            "\n",
            "Epoch 00034: LearningRateScheduler reducing learning rate to tf.Tensor(1e-06, shape=(), dtype=float32).\n",
            "125/125 [==============================] - 77s 616ms/step - loss: 0.7515 - categorical_accuracy: 0.7533 - val_loss: 0.5431 - val_categorical_accuracy: 0.8087\n",
            "Epoch 35/50\n",
            "\n",
            "Epoch 00035: LearningRateScheduler reducing learning rate to tf.Tensor(1e-06, shape=(), dtype=float32).\n",
            "125/125 [==============================] - 78s 621ms/step - loss: 0.7473 - categorical_accuracy: 0.7609 - val_loss: 0.5446 - val_categorical_accuracy: 0.8062\n",
            "Epoch 36/50\n",
            "\n",
            "Epoch 00036: LearningRateScheduler reducing learning rate to tf.Tensor(1e-06, shape=(), dtype=float32).\n",
            "125/125 [==============================] - 77s 620ms/step - loss: 0.7330 - categorical_accuracy: 0.7620 - val_loss: 0.5445 - val_categorical_accuracy: 0.8075\n",
            "Epoch 37/50\n",
            "\n",
            "Epoch 00037: LearningRateScheduler reducing learning rate to tf.Tensor(1e-06, shape=(), dtype=float32).\n",
            " 14/125 [==>...........................] - ETA: 1:02 - loss: 0.7266 - categorical_accuracy: 0.7617"
          ],
          "name": "stdout"
        }
      ]
    },
    {
      "cell_type": "markdown",
      "metadata": {
        "id": "2zsiquytJO79"
      },
      "source": [
        "With model.summary() we'll see a printout of each of our layers, their corresponding shape, as well as the associated number of parameters. Notice that at the bottom of the printout we'll see information on the total parameters, trainable parameters, and non-trainable parameters. Because we're using a pre-trained model, we expect there to be a large number of non-trainable parameters (because the weights have already been assigned in the pre-trained model)."
      ]
    },
    {
      "cell_type": "code",
      "metadata": {
        "colab": {
          "base_uri": "https://localhost:8080/"
        },
        "id": "Z2PIO2fGJO79",
        "outputId": "611bc564-bde1-4c3a-9a1d-996e2e780177"
      },
      "source": [
        "model.summary()"
      ],
      "execution_count": null,
      "outputs": [
        {
          "output_type": "stream",
          "text": [
            "Model: \"sequential_8\"\n",
            "_________________________________________________________________\n",
            "Layer (type)                 Output Shape              Param #   \n",
            "=================================================================\n",
            "lambda_8 (Lambda)            (None, 512, 512, 3)       0         \n",
            "_________________________________________________________________\n",
            "efficientnetb5 (Functional)  (None, None, None, 2048)  28513527  \n",
            "_________________________________________________________________\n",
            "global_average_pooling2d_8 ( (None, 2048)              0         \n",
            "_________________________________________________________________\n",
            "dense_16 (Dense)             (None, 64)                131136    \n",
            "_________________________________________________________________\n",
            "dense_17 (Dense)             (None, 5)                 325       \n",
            "=================================================================\n",
            "Total params: 28,644,988\n",
            "Trainable params: 28,472,245\n",
            "Non-trainable params: 172,743\n",
            "_________________________________________________________________\n"
          ],
          "name": "stdout"
        }
      ]
    },
    {
      "cell_type": "markdown",
      "metadata": {
        "id": "rCqBoAeBJO79"
      },
      "source": [
        "# Evaluating our model\n",
        "The first chunk of code is provided to show you where the variables in the second chunk of code came from. As you can see, there's a lot of room for improvement in this model, but because we're using TPUs and have a relatively short training time, we're able to iterate on our model fairly rapidly."
      ]
    },
    {
      "cell_type": "code",
      "metadata": {
        "colab": {
          "base_uri": "https://localhost:8080/"
        },
        "id": "EW3xYsWtJO7-",
        "outputId": "ccb58a42-7362-4653-db34-ee06ec6cea31"
      },
      "source": [
        "# print out variables available to us\n",
        "print(history.history.keys())"
      ],
      "execution_count": null,
      "outputs": [
        {
          "output_type": "stream",
          "text": [
            "dict_keys(['loss', 'sparse_categorical_accuracy', 'val_loss', 'val_sparse_categorical_accuracy', 'lr'])\n"
          ],
          "name": "stdout"
        }
      ]
    },
    {
      "cell_type": "code",
      "metadata": {
        "colab": {
          "base_uri": "https://localhost:8080/",
          "height": 514
        },
        "id": "JOGAzbgKJO8A",
        "outputId": "f16405fd-9685-40a7-a97a-63db33a2901c"
      },
      "source": [
        "# create learning curves to evaluate model performance\n",
        "history_frame = pd.DataFrame(history.history)\n",
        "history_frame.loc[:, ['loss', 'val_loss']].plot()\n",
        "history_frame.loc[:, ['sparse_categorical_accuracy', 'val_sparse_categorical_accuracy']].plot()"
      ],
      "execution_count": null,
      "outputs": [
        {
          "output_type": "display_data",
          "data": {
            "image/png": "[encoded data removed]",
            "text/plain": [
              "<Figure size 432x288 with 1 Axes>"
            ]
          },
          "metadata": {
            "tags": []
          }
        },
        {
          "output_type": "display_data",
          "data": {
            "image/png": "[encoded data removed]",
            "text/plain": [
              "<Figure size 432x288 with 1 Axes>"
            ]
          },
          "metadata": {
            "tags": []
          }
        }
      ]
    },
    {
      "cell_type": "markdown",
      "metadata": {
        "id": "hgWvPOl2JO8B"
      },
      "source": [
        "# Making predictions\n",
        "Now that we've trained our model we can use it to make predictions! "
      ]
    },
    {
      "cell_type": "code",
      "metadata": {
        "id": "_GycKn9cJO8B"
      },
      "source": [
        "# this code will convert our test image data to a float32 \n",
        "def to_float32(image, label):\n",
        "    return tf.cast(image, tf.float32), label"
      ],
      "execution_count": null,
      "outputs": []
    },
    {
      "cell_type": "code",
      "metadata": {
        "colab": {
          "base_uri": "https://localhost:8080/"
        },
        "id": "4tjGgHV5JO8C",
        "outputId": "a9dcaeaf-55b7-4512-ea03-c97db379f74b"
      },
      "source": [
        "test_ds = get_test_dataset(ordered=True) \n",
        "test_ds = test_ds.map(to_float32)\n",
        "testing_dataset = get_test_dataset()\n",
        "print('Computing predictions...')\n",
        "test_images_ds = testing_dataset\n",
        "test_images_ds = test_ds.map(lambda image, idnum: image)\n",
        "probabilities = model.predict(test_images_ds)\n",
        "predictions = np.argmax(probabilities, axis=-1)\n",
        "print(predictions)"
      ],
      "execution_count": null,
      "outputs": [
        {
          "output_type": "stream",
          "text": [
            "Computing predictions...\n",
            "[4]\n"
          ],
          "name": "stdout"
        }
      ]
    },
    {
      "cell_type": "markdown",
      "metadata": {
        "id": "3Z-ed9CTJO8C"
      },
      "source": [
        "# Creating a submission file\n",
        "Now that we've trained a model and made predictions we're ready to submit to the competition! You can run the following code below to get your submission file."
      ]
    },
    {
      "cell_type": "code",
      "metadata": {
        "colab": {
          "base_uri": "https://localhost:8080/"
        },
        "id": "ChvBZBdvJO8C",
        "outputId": "d74ad153-9363-4ab4-d80a-8a6260b92532"
      },
      "source": [
        "print('Generating submission.csv file...')\n",
        "test_ids_ds = test_ds.map(lambda image, idnum: idnum).unbatch()\n",
        "test_ids = next(iter(test_ids_ds.batch(NUM_TEST_IMAGES))).numpy().astype('U') # all in one batch\n",
        "np.savetxt('submission.csv', np.rec.fromarrays([test_ids, predictions]), fmt=['%s', '%d'], delimiter=',', header='id,label', comments='')\n",
        "!head submission.csv"
      ],
      "execution_count": null,
      "outputs": [
        {
          "output_type": "stream",
          "text": [
            "Generating submission.csv file...\n",
            "id,label\n",
            "2216849948.jpg,4\n"
          ],
          "name": "stdout"
        }
      ]
    },
    {
      "cell_type": "code",
      "metadata": {
        "colab": {
          "base_uri": "https://localhost:8080/"
        },
        "id": "WPxCutgSiSUO",
        "outputId": "e3d41abb-4cc5-4f94-d165-5862ee0c2f7b"
      },
      "source": [
        "! nvidia-smi"
      ],
      "execution_count": null,
      "outputs": [
        {
          "output_type": "stream",
          "text": [
            "Thu Aug  5 00:16:11 2021       \n",
            "+-----------------------------------------------------------------------------+\n",
            "| NVIDIA-SMI 470.42.01    Driver Version: 460.32.03    CUDA Version: 11.2     |\n",
            "|-------------------------------+----------------------+----------------------+\n",
            "| GPU  Name        Persistence-M| Bus-Id        Disp.A | Volatile Uncorr. ECC |\n",
            "| Fan  Temp  Perf  Pwr:Usage/Cap|         Memory-Usage | GPU-Util  Compute M. |\n",
            "|                               |                      |               MIG M. |\n",
            "|===============================+======================+======================|\n",
            "|   0  Tesla V100-SXM2...  Off  | 00000000:00:04.0 Off |                    0 |\n",
            "| N/A   37C    P0    39W / 300W |  15493MiB / 16160MiB |      0%      Default |\n",
            "|                               |                      |                  N/A |\n",
            "+-------------------------------+----------------------+----------------------+\n",
            "                                                                               \n",
            "+-----------------------------------------------------------------------------+\n",
            "| Processes:                                                                  |\n",
            "|  GPU   GI   CI        PID   Type   Process name                  GPU Memory |\n",
            "|        ID   ID                                                   Usage      |\n",
            "|=============================================================================|\n",
            "|  No running processes found                                                 |\n",
            "+-----------------------------------------------------------------------------+\n"
          ],
          "name": "stdout"
        }
      ]
    }
  ]
}